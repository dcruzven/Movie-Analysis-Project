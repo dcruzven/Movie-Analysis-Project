{
 "cells": [
  {
   "cell_type": "markdown",
   "metadata": {},
   "source": [
    "# Microsoft Movie Studios \n",
    "## Industry Entrance Plan\n"
   ]
  },
  {
   "attachments": {
    "microsoftLogo.png": {
     "image/png": "[encoded data removed]"
    }
   },
   "cell_type": "markdown",
   "metadata": {},
   "source": [
    "![microsoftLogo.png](attachment:microsoftLogo.png)"
   ]
  },
  {
   "cell_type": "markdown",
   "metadata": {},
   "source": [
    "## Overview"
   ]
  },
  {
   "cell_type": "markdown",
   "metadata": {},
   "source": [
    "This project takes on the movie scene to give Microsoft insightful recomendations for their first steps into the movie landscape. We recieved our data from databases such as iMDB, The Numbers, and Box Office Mojo. Our results show genres, studios, and directors Microsoft should focus on creating partnerships with. Microsoft can use our insights to create a plan to be successful in the movie industry. \n",
    "\n"
   ]
  },
  {
   "cell_type": "markdown",
   "metadata": {},
   "source": [
    "## Business Understanding"
   ]
  },
  {
   "cell_type": "markdown",
   "metadata": {},
   "source": [
    " Microsoft wants to take a dive into the movie industry. Being Microsoft, their forte is technology but not so much movie making. We were put on this project to help them get their start in the movie landscape. By looking at movie databases, we will be able to give them suggestions and help them decide what movies to make. As a business, they would focus on profits. For their consumers, they should focus on popularity. By using profit and popularity as a metric, Microsoft will know what genres, directors, and studios to work with.\n"
   ]
  },
  {
   "cell_type": "markdown",
   "metadata": {},
   "source": [
    "## Data"
   ]
  },
  {
   "cell_type": "markdown",
   "metadata": {},
   "source": [
    "We used various established movie databases. [The Numbers](https://www.the-numbers.com/about) provided geat information regarding worldwide gross, which was used to get our profitable data sets. This database had over 5.7k movies to work with. [Box Office Mojo](https://help.imdb.com/article/imdbpro/industry-research/box-office-mojo-by-imdbpro-faq/GCWTV4MQKGWRAUAP?ref_=mojo_ftr_help#) provided data on monetary values and studios for movie titles. We used this database (3.3k entries) to get the movie studios for each movie title. The [iMDB](https://help.imdb.com/article/imdb/general-information/what-is-imdb/G836CY29Z4SGNMK5?ref_=__seemr#) database was used in our popular data sets. iMDB provied much information on vote counts, directors, and genres (86k titles). By combining and cleaning data with all three databases, we were able to gather data on popular/profitable studios, genres, and directors."
   ]
  },
  {
   "cell_type": "markdown",
   "metadata": {},
   "source": [
    "## Goals\n",
    "- Clean data\n",
    "- Create a Popularity chart for genre, studio, directors\n",
    "- Create a Profit chart for genre, studio, directors"
   ]
  },
  {
   "cell_type": "markdown",
   "metadata": {},
   "source": [
    "## Cleaning data for Popularity Metric\n",
    "- create a movie year column for all data sets\n",
    "- makes merging easier \n",
    "- making sure there are no nulls or duplicates"
   ]
  },
  {
   "cell_type": "code",
   "execution_count": 1,
   "metadata": {},
   "outputs": [],
   "source": [
    "import pandas as pd\n",
    "from matplotlib.ticker import StrMethodFormatter\n",
    "import matplotlib.pyplot as plt\n",
    "import seaborn as sns\n",
    "import numpy as np"
   ]
  },
  {
   "cell_type": "code",
   "execution_count": 2,
   "metadata": {},
   "outputs": [],
   "source": [
    "bom = pd.read_csv('zippedData/bom.movie_gross.csv.gz')\n",
    "tmdb_df = pd.read_csv('zippedData/tmdb.movies.csv.gz')\n",
    "tn = pd.read_csv('zippedData/tn.movie_budgets.csv.gz')\n",
    "imdb = pd.read_csv('imdbCSV.csv')"
   ]
  },
  {
   "cell_type": "markdown",
   "metadata": {},
   "source": [
    "### Box Office Mojo Cleaning\n",
    "\n"
   ]
  },
  {
   "cell_type": "code",
   "execution_count": 3,
   "metadata": {},
   "outputs": [
    {
     "data": {
      "text/plain": [
       "title                0\n",
       "studio               5\n",
       "domestic_gross      28\n",
       "foreign_gross     1350\n",
       "year                 0\n",
       "dtype: int64"
      ]
     },
     "execution_count": 3,
     "metadata": {},
     "output_type": "execute_result"
    }
   ],
   "source": [
    "bom.isna().sum()"
   ]
  },
  {
   "cell_type": "code",
   "execution_count": 4,
   "metadata": {
    "scrolled": false
   },
   "outputs": [
    {
     "data": {
      "text/html": [
       "<div>\n",
       "<style scoped>\n",
       "    .dataframe tbody tr th:only-of-type {\n",
       "        vertical-align: middle;\n",
       "    }\n",
       "\n",
       "    .dataframe tbody tr th {\n",
       "        vertical-align: top;\n",
       "    }\n",
       "\n",
       "    .dataframe thead th {\n",
       "        text-align: right;\n",
       "    }\n",
       "</style>\n",
       "<table border=\"1\" class=\"dataframe\">\n",
       "  <thead>\n",
       "    <tr style=\"text-align: right;\">\n",
       "      <th></th>\n",
       "      <th>title</th>\n",
       "      <th>studio</th>\n",
       "      <th>domestic_gross</th>\n",
       "      <th>foreign_gross</th>\n",
       "      <th>year</th>\n",
       "    </tr>\n",
       "  </thead>\n",
       "  <tbody>\n",
       "    <tr>\n",
       "      <th>0</th>\n",
       "      <td>Toy Story 3</td>\n",
       "      <td>BV</td>\n",
       "      <td>415000000.0</td>\n",
       "      <td>652000000</td>\n",
       "      <td>2010</td>\n",
       "    </tr>\n",
       "    <tr>\n",
       "      <th>1</th>\n",
       "      <td>Alice in Wonderland (2010)</td>\n",
       "      <td>BV</td>\n",
       "      <td>334200000.0</td>\n",
       "      <td>691300000</td>\n",
       "      <td>2010</td>\n",
       "    </tr>\n",
       "    <tr>\n",
       "      <th>2</th>\n",
       "      <td>Harry Potter and the Deathly Hallows Part 1</td>\n",
       "      <td>WB</td>\n",
       "      <td>296000000.0</td>\n",
       "      <td>664300000</td>\n",
       "      <td>2010</td>\n",
       "    </tr>\n",
       "    <tr>\n",
       "      <th>3</th>\n",
       "      <td>Inception</td>\n",
       "      <td>WB</td>\n",
       "      <td>292600000.0</td>\n",
       "      <td>535700000</td>\n",
       "      <td>2010</td>\n",
       "    </tr>\n",
       "    <tr>\n",
       "      <th>4</th>\n",
       "      <td>Shrek Forever After</td>\n",
       "      <td>P/DW</td>\n",
       "      <td>238700000.0</td>\n",
       "      <td>513900000</td>\n",
       "      <td>2010</td>\n",
       "    </tr>\n",
       "  </tbody>\n",
       "</table>\n",
       "</div>"
      ],
      "text/plain": [
       "                                         title studio  domestic_gross  \\\n",
       "0                                  Toy Story 3     BV     415000000.0   \n",
       "1                   Alice in Wonderland (2010)     BV     334200000.0   \n",
       "2  Harry Potter and the Deathly Hallows Part 1     WB     296000000.0   \n",
       "3                                    Inception     WB     292600000.0   \n",
       "4                          Shrek Forever After   P/DW     238700000.0   \n",
       "\n",
       "  foreign_gross  year  \n",
       "0     652000000  2010  \n",
       "1     691300000  2010  \n",
       "2     664300000  2010  \n",
       "3     535700000  2010  \n",
       "4     513900000  2010  "
      ]
     },
     "execution_count": 4,
     "metadata": {},
     "output_type": "execute_result"
    }
   ],
   "source": [
    "bom.head()"
   ]
  },
  {
   "cell_type": "code",
   "execution_count": 5,
   "metadata": {},
   "outputs": [],
   "source": [
    "bom['movie year'] = bom['title'] +\" \"+ bom['year'].astype(str)"
   ]
  },
  {
   "cell_type": "code",
   "execution_count": 6,
   "metadata": {
    "scrolled": true
   },
   "outputs": [],
   "source": [
    "bom_clean = bom.dropna()"
   ]
  },
  {
   "cell_type": "code",
   "execution_count": 7,
   "metadata": {},
   "outputs": [
    {
     "data": {
      "text/plain": [
       "title             0\n",
       "studio            0\n",
       "domestic_gross    0\n",
       "foreign_gross     0\n",
       "year              0\n",
       "movie year        0\n",
       "dtype: int64"
      ]
     },
     "execution_count": 7,
     "metadata": {},
     "output_type": "execute_result"
    }
   ],
   "source": [
    "bom_clean.isna().sum()"
   ]
  },
  {
   "cell_type": "code",
   "execution_count": 8,
   "metadata": {},
   "outputs": [
    {
     "data": {
      "text/plain": [
       "0"
      ]
     },
     "execution_count": 8,
     "metadata": {},
     "output_type": "execute_result"
    }
   ],
   "source": [
    "bom_clean['movie year'].duplicated().sum()"
   ]
  },
  {
   "cell_type": "code",
   "execution_count": 9,
   "metadata": {
    "scrolled": false
   },
   "outputs": [
    {
     "data": {
      "text/html": [
       "<div>\n",
       "<style scoped>\n",
       "    .dataframe tbody tr th:only-of-type {\n",
       "        vertical-align: middle;\n",
       "    }\n",
       "\n",
       "    .dataframe tbody tr th {\n",
       "        vertical-align: top;\n",
       "    }\n",
       "\n",
       "    .dataframe thead th {\n",
       "        text-align: right;\n",
       "    }\n",
       "</style>\n",
       "<table border=\"1\" class=\"dataframe\">\n",
       "  <thead>\n",
       "    <tr style=\"text-align: right;\">\n",
       "      <th></th>\n",
       "      <th>title</th>\n",
       "      <th>studio</th>\n",
       "      <th>domestic_gross</th>\n",
       "      <th>foreign_gross</th>\n",
       "      <th>year</th>\n",
       "      <th>movie year</th>\n",
       "    </tr>\n",
       "  </thead>\n",
       "  <tbody>\n",
       "    <tr>\n",
       "      <th>0</th>\n",
       "      <td>Toy Story 3</td>\n",
       "      <td>BV</td>\n",
       "      <td>415000000.0</td>\n",
       "      <td>652000000</td>\n",
       "      <td>2010</td>\n",
       "      <td>Toy Story 3 2010</td>\n",
       "    </tr>\n",
       "    <tr>\n",
       "      <th>1</th>\n",
       "      <td>Alice in Wonderland (2010)</td>\n",
       "      <td>BV</td>\n",
       "      <td>334200000.0</td>\n",
       "      <td>691300000</td>\n",
       "      <td>2010</td>\n",
       "      <td>Alice in Wonderland (2010) 2010</td>\n",
       "    </tr>\n",
       "    <tr>\n",
       "      <th>2</th>\n",
       "      <td>Harry Potter and the Deathly Hallows Part 1</td>\n",
       "      <td>WB</td>\n",
       "      <td>296000000.0</td>\n",
       "      <td>664300000</td>\n",
       "      <td>2010</td>\n",
       "      <td>Harry Potter and the Deathly Hallows Part 1 2010</td>\n",
       "    </tr>\n",
       "    <tr>\n",
       "      <th>3</th>\n",
       "      <td>Inception</td>\n",
       "      <td>WB</td>\n",
       "      <td>292600000.0</td>\n",
       "      <td>535700000</td>\n",
       "      <td>2010</td>\n",
       "      <td>Inception 2010</td>\n",
       "    </tr>\n",
       "    <tr>\n",
       "      <th>4</th>\n",
       "      <td>Shrek Forever After</td>\n",
       "      <td>P/DW</td>\n",
       "      <td>238700000.0</td>\n",
       "      <td>513900000</td>\n",
       "      <td>2010</td>\n",
       "      <td>Shrek Forever After 2010</td>\n",
       "    </tr>\n",
       "  </tbody>\n",
       "</table>\n",
       "</div>"
      ],
      "text/plain": [
       "                                         title studio  domestic_gross  \\\n",
       "0                                  Toy Story 3     BV     415000000.0   \n",
       "1                   Alice in Wonderland (2010)     BV     334200000.0   \n",
       "2  Harry Potter and the Deathly Hallows Part 1     WB     296000000.0   \n",
       "3                                    Inception     WB     292600000.0   \n",
       "4                          Shrek Forever After   P/DW     238700000.0   \n",
       "\n",
       "  foreign_gross  year                                        movie year  \n",
       "0     652000000  2010                                  Toy Story 3 2010  \n",
       "1     691300000  2010                   Alice in Wonderland (2010) 2010  \n",
       "2     664300000  2010  Harry Potter and the Deathly Hallows Part 1 2010  \n",
       "3     535700000  2010                                    Inception 2010  \n",
       "4     513900000  2010                          Shrek Forever After 2010  "
      ]
     },
     "execution_count": 9,
     "metadata": {},
     "output_type": "execute_result"
    }
   ],
   "source": [
    "bom_clean.head()"
   ]
  },
  {
   "cell_type": "code",
   "execution_count": 10,
   "metadata": {},
   "outputs": [
    {
     "data": {
      "text/plain": [
       "(2007, 6)"
      ]
     },
     "execution_count": 10,
     "metadata": {},
     "output_type": "execute_result"
    }
   ],
   "source": [
    "bom_clean.shape"
   ]
  },
  {
   "cell_type": "markdown",
   "metadata": {},
   "source": [
    "### The Numbers Cleaning"
   ]
  },
  {
   "cell_type": "code",
   "execution_count": 11,
   "metadata": {},
   "outputs": [
    {
     "data": {
      "text/html": [
       "<div>\n",
       "<style scoped>\n",
       "    .dataframe tbody tr th:only-of-type {\n",
       "        vertical-align: middle;\n",
       "    }\n",
       "\n",
       "    .dataframe tbody tr th {\n",
       "        vertical-align: top;\n",
       "    }\n",
       "\n",
       "    .dataframe thead th {\n",
       "        text-align: right;\n",
       "    }\n",
       "</style>\n",
       "<table border=\"1\" class=\"dataframe\">\n",
       "  <thead>\n",
       "    <tr style=\"text-align: right;\">\n",
       "      <th></th>\n",
       "      <th>id</th>\n",
       "      <th>release_date</th>\n",
       "      <th>movie</th>\n",
       "      <th>production_budget</th>\n",
       "      <th>domestic_gross</th>\n",
       "      <th>worldwide_gross</th>\n",
       "    </tr>\n",
       "  </thead>\n",
       "  <tbody>\n",
       "    <tr>\n",
       "      <th>0</th>\n",
       "      <td>1</td>\n",
       "      <td>Dec 18, 2009</td>\n",
       "      <td>Avatar</td>\n",
       "      <td>$425,000,000</td>\n",
       "      <td>$760,507,625</td>\n",
       "      <td>$2,776,345,279</td>\n",
       "    </tr>\n",
       "    <tr>\n",
       "      <th>1</th>\n",
       "      <td>2</td>\n",
       "      <td>May 20, 2011</td>\n",
       "      <td>Pirates of the Caribbean: On Stranger Tides</td>\n",
       "      <td>$410,600,000</td>\n",
       "      <td>$241,063,875</td>\n",
       "      <td>$1,045,663,875</td>\n",
       "    </tr>\n",
       "    <tr>\n",
       "      <th>2</th>\n",
       "      <td>3</td>\n",
       "      <td>Jun 7, 2019</td>\n",
       "      <td>Dark Phoenix</td>\n",
       "      <td>$350,000,000</td>\n",
       "      <td>$42,762,350</td>\n",
       "      <td>$149,762,350</td>\n",
       "    </tr>\n",
       "    <tr>\n",
       "      <th>3</th>\n",
       "      <td>4</td>\n",
       "      <td>May 1, 2015</td>\n",
       "      <td>Avengers: Age of Ultron</td>\n",
       "      <td>$330,600,000</td>\n",
       "      <td>$459,005,868</td>\n",
       "      <td>$1,403,013,963</td>\n",
       "    </tr>\n",
       "    <tr>\n",
       "      <th>4</th>\n",
       "      <td>5</td>\n",
       "      <td>Dec 15, 2017</td>\n",
       "      <td>Star Wars Ep. VIII: The Last Jedi</td>\n",
       "      <td>$317,000,000</td>\n",
       "      <td>$620,181,382</td>\n",
       "      <td>$1,316,721,747</td>\n",
       "    </tr>\n",
       "  </tbody>\n",
       "</table>\n",
       "</div>"
      ],
      "text/plain": [
       "   id  release_date                                        movie  \\\n",
       "0   1  Dec 18, 2009                                       Avatar   \n",
       "1   2  May 20, 2011  Pirates of the Caribbean: On Stranger Tides   \n",
       "2   3   Jun 7, 2019                                 Dark Phoenix   \n",
       "3   4   May 1, 2015                      Avengers: Age of Ultron   \n",
       "4   5  Dec 15, 2017            Star Wars Ep. VIII: The Last Jedi   \n",
       "\n",
       "  production_budget domestic_gross worldwide_gross  \n",
       "0      $425,000,000   $760,507,625  $2,776,345,279  \n",
       "1      $410,600,000   $241,063,875  $1,045,663,875  \n",
       "2      $350,000,000    $42,762,350    $149,762,350  \n",
       "3      $330,600,000   $459,005,868  $1,403,013,963  \n",
       "4      $317,000,000   $620,181,382  $1,316,721,747  "
      ]
     },
     "execution_count": 11,
     "metadata": {},
     "output_type": "execute_result"
    }
   ],
   "source": [
    "tn.head()"
   ]
  },
  {
   "cell_type": "code",
   "execution_count": 12,
   "metadata": {},
   "outputs": [],
   "source": [
    "tn['release_date'] = pd.to_datetime(tn['release_date'], format='%b %d, %Y')"
   ]
  },
  {
   "cell_type": "code",
   "execution_count": 13,
   "metadata": {},
   "outputs": [],
   "source": [
    "tn['movie year'] = tn['movie'] + ' ' + tn['release_date'].dt.year.astype(str)"
   ]
  },
  {
   "cell_type": "code",
   "execution_count": 14,
   "metadata": {
    "scrolled": false
   },
   "outputs": [
    {
     "data": {
      "text/plain": [
       "id                   0\n",
       "release_date         0\n",
       "movie                0\n",
       "production_budget    0\n",
       "domestic_gross       0\n",
       "worldwide_gross      0\n",
       "movie year           0\n",
       "dtype: int64"
      ]
     },
     "execution_count": 14,
     "metadata": {},
     "output_type": "execute_result"
    }
   ],
   "source": [
    "tn.isna().sum()"
   ]
  },
  {
   "cell_type": "code",
   "execution_count": 15,
   "metadata": {},
   "outputs": [],
   "source": [
    "tn = tn.drop_duplicates('movie year', keep='first')"
   ]
  },
  {
   "cell_type": "code",
   "execution_count": 16,
   "metadata": {
    "scrolled": false
   },
   "outputs": [
    {
     "data": {
      "text/html": [
       "<div>\n",
       "<style scoped>\n",
       "    .dataframe tbody tr th:only-of-type {\n",
       "        vertical-align: middle;\n",
       "    }\n",
       "\n",
       "    .dataframe tbody tr th {\n",
       "        vertical-align: top;\n",
       "    }\n",
       "\n",
       "    .dataframe thead th {\n",
       "        text-align: right;\n",
       "    }\n",
       "</style>\n",
       "<table border=\"1\" class=\"dataframe\">\n",
       "  <thead>\n",
       "    <tr style=\"text-align: right;\">\n",
       "      <th></th>\n",
       "      <th>id</th>\n",
       "      <th>release_date</th>\n",
       "      <th>movie</th>\n",
       "      <th>production_budget</th>\n",
       "      <th>domestic_gross</th>\n",
       "      <th>worldwide_gross</th>\n",
       "      <th>movie year</th>\n",
       "    </tr>\n",
       "  </thead>\n",
       "  <tbody>\n",
       "    <tr>\n",
       "      <th>0</th>\n",
       "      <td>1</td>\n",
       "      <td>2009-12-18</td>\n",
       "      <td>Avatar</td>\n",
       "      <td>$425,000,000</td>\n",
       "      <td>$760,507,625</td>\n",
       "      <td>$2,776,345,279</td>\n",
       "      <td>Avatar 2009</td>\n",
       "    </tr>\n",
       "    <tr>\n",
       "      <th>1</th>\n",
       "      <td>2</td>\n",
       "      <td>2011-05-20</td>\n",
       "      <td>Pirates of the Caribbean: On Stranger Tides</td>\n",
       "      <td>$410,600,000</td>\n",
       "      <td>$241,063,875</td>\n",
       "      <td>$1,045,663,875</td>\n",
       "      <td>Pirates of the Caribbean: On Stranger Tides 2011</td>\n",
       "    </tr>\n",
       "    <tr>\n",
       "      <th>2</th>\n",
       "      <td>3</td>\n",
       "      <td>2019-06-07</td>\n",
       "      <td>Dark Phoenix</td>\n",
       "      <td>$350,000,000</td>\n",
       "      <td>$42,762,350</td>\n",
       "      <td>$149,762,350</td>\n",
       "      <td>Dark Phoenix 2019</td>\n",
       "    </tr>\n",
       "    <tr>\n",
       "      <th>3</th>\n",
       "      <td>4</td>\n",
       "      <td>2015-05-01</td>\n",
       "      <td>Avengers: Age of Ultron</td>\n",
       "      <td>$330,600,000</td>\n",
       "      <td>$459,005,868</td>\n",
       "      <td>$1,403,013,963</td>\n",
       "      <td>Avengers: Age of Ultron 2015</td>\n",
       "    </tr>\n",
       "    <tr>\n",
       "      <th>4</th>\n",
       "      <td>5</td>\n",
       "      <td>2017-12-15</td>\n",
       "      <td>Star Wars Ep. VIII: The Last Jedi</td>\n",
       "      <td>$317,000,000</td>\n",
       "      <td>$620,181,382</td>\n",
       "      <td>$1,316,721,747</td>\n",
       "      <td>Star Wars Ep. VIII: The Last Jedi 2017</td>\n",
       "    </tr>\n",
       "  </tbody>\n",
       "</table>\n",
       "</div>"
      ],
      "text/plain": [
       "   id release_date                                        movie  \\\n",
       "0   1   2009-12-18                                       Avatar   \n",
       "1   2   2011-05-20  Pirates of the Caribbean: On Stranger Tides   \n",
       "2   3   2019-06-07                                 Dark Phoenix   \n",
       "3   4   2015-05-01                      Avengers: Age of Ultron   \n",
       "4   5   2017-12-15            Star Wars Ep. VIII: The Last Jedi   \n",
       "\n",
       "  production_budget domestic_gross worldwide_gross  \\\n",
       "0      $425,000,000   $760,507,625  $2,776,345,279   \n",
       "1      $410,600,000   $241,063,875  $1,045,663,875   \n",
       "2      $350,000,000    $42,762,350    $149,762,350   \n",
       "3      $330,600,000   $459,005,868  $1,403,013,963   \n",
       "4      $317,000,000   $620,181,382  $1,316,721,747   \n",
       "\n",
       "                                         movie year  \n",
       "0                                       Avatar 2009  \n",
       "1  Pirates of the Caribbean: On Stranger Tides 2011  \n",
       "2                                 Dark Phoenix 2019  \n",
       "3                      Avengers: Age of Ultron 2015  \n",
       "4            Star Wars Ep. VIII: The Last Jedi 2017  "
      ]
     },
     "execution_count": 16,
     "metadata": {},
     "output_type": "execute_result"
    }
   ],
   "source": [
    "tn.head()"
   ]
  },
  {
   "cell_type": "code",
   "execution_count": 17,
   "metadata": {},
   "outputs": [
    {
     "data": {
      "text/plain": [
       "(5781, 7)"
      ]
     },
     "execution_count": 17,
     "metadata": {},
     "output_type": "execute_result"
    }
   ],
   "source": [
    "tn.shape"
   ]
  },
  {
   "cell_type": "markdown",
   "metadata": {},
   "source": [
    "## Using iMDB to get popular genre dataframe\n",
    "- setting up df to use for later in making graphs"
   ]
  },
  {
   "cell_type": "code",
   "execution_count": 18,
   "metadata": {
    "scrolled": true
   },
   "outputs": [
    {
     "data": {
      "text/html": [
       "<div>\n",
       "<style scoped>\n",
       "    .dataframe tbody tr th:only-of-type {\n",
       "        vertical-align: middle;\n",
       "    }\n",
       "\n",
       "    .dataframe tbody tr th {\n",
       "        vertical-align: top;\n",
       "    }\n",
       "\n",
       "    .dataframe thead th {\n",
       "        text-align: right;\n",
       "    }\n",
       "</style>\n",
       "<table border=\"1\" class=\"dataframe\">\n",
       "  <thead>\n",
       "    <tr style=\"text-align: right;\">\n",
       "      <th></th>\n",
       "      <th>Unnamed: 0</th>\n",
       "      <th>movie_id</th>\n",
       "      <th>primary_title</th>\n",
       "      <th>original_title</th>\n",
       "      <th>start_year</th>\n",
       "      <th>runtime_minutes</th>\n",
       "      <th>genres</th>\n",
       "      <th>movie_id.1</th>\n",
       "      <th>averagerating</th>\n",
       "      <th>numvotes</th>\n",
       "      <th>movie_id.2</th>\n",
       "      <th>person_id</th>\n",
       "      <th>person_id.1</th>\n",
       "      <th>primary_name</th>\n",
       "      <th>birth_year</th>\n",
       "      <th>death_year</th>\n",
       "      <th>primary_profession</th>\n",
       "    </tr>\n",
       "  </thead>\n",
       "  <tbody>\n",
       "    <tr>\n",
       "      <th>0</th>\n",
       "      <td>0</td>\n",
       "      <td>tt1375666</td>\n",
       "      <td>Inception</td>\n",
       "      <td>Inception</td>\n",
       "      <td>2010</td>\n",
       "      <td>148.0</td>\n",
       "      <td>Action,Adventure,Sci-Fi</td>\n",
       "      <td>tt1375666</td>\n",
       "      <td>8.8</td>\n",
       "      <td>1841066</td>\n",
       "      <td>tt1375666</td>\n",
       "      <td>nm0634240</td>\n",
       "      <td>nm0634240</td>\n",
       "      <td>Christopher Nolan</td>\n",
       "      <td>1970.0</td>\n",
       "      <td>NaN</td>\n",
       "      <td>writer,producer,director</td>\n",
       "    </tr>\n",
       "    <tr>\n",
       "      <th>1</th>\n",
       "      <td>1</td>\n",
       "      <td>tt1345836</td>\n",
       "      <td>The Dark Knight Rises</td>\n",
       "      <td>The Dark Knight Rises</td>\n",
       "      <td>2012</td>\n",
       "      <td>164.0</td>\n",
       "      <td>Action,Thriller</td>\n",
       "      <td>tt1345836</td>\n",
       "      <td>8.4</td>\n",
       "      <td>1387769</td>\n",
       "      <td>tt1345836</td>\n",
       "      <td>nm0634240</td>\n",
       "      <td>nm0634240</td>\n",
       "      <td>Christopher Nolan</td>\n",
       "      <td>1970.0</td>\n",
       "      <td>NaN</td>\n",
       "      <td>writer,producer,director</td>\n",
       "    </tr>\n",
       "    <tr>\n",
       "      <th>2</th>\n",
       "      <td>2</td>\n",
       "      <td>tt0816692</td>\n",
       "      <td>Interstellar</td>\n",
       "      <td>Interstellar</td>\n",
       "      <td>2014</td>\n",
       "      <td>169.0</td>\n",
       "      <td>Adventure,Drama,Sci-Fi</td>\n",
       "      <td>tt0816692</td>\n",
       "      <td>8.6</td>\n",
       "      <td>1299334</td>\n",
       "      <td>tt0816692</td>\n",
       "      <td>nm0634240</td>\n",
       "      <td>nm0634240</td>\n",
       "      <td>Christopher Nolan</td>\n",
       "      <td>1970.0</td>\n",
       "      <td>NaN</td>\n",
       "      <td>writer,producer,director</td>\n",
       "    </tr>\n",
       "    <tr>\n",
       "      <th>3</th>\n",
       "      <td>3</td>\n",
       "      <td>tt1853728</td>\n",
       "      <td>Django Unchained</td>\n",
       "      <td>Django Unchained</td>\n",
       "      <td>2012</td>\n",
       "      <td>165.0</td>\n",
       "      <td>Drama,Western</td>\n",
       "      <td>tt1853728</td>\n",
       "      <td>8.4</td>\n",
       "      <td>1211405</td>\n",
       "      <td>tt1853728</td>\n",
       "      <td>nm0000233</td>\n",
       "      <td>nm0000233</td>\n",
       "      <td>Quentin Tarantino</td>\n",
       "      <td>1963.0</td>\n",
       "      <td>NaN</td>\n",
       "      <td>writer,actor,producer</td>\n",
       "    </tr>\n",
       "    <tr>\n",
       "      <th>4</th>\n",
       "      <td>4</td>\n",
       "      <td>tt0848228</td>\n",
       "      <td>The Avengers</td>\n",
       "      <td>The Avengers</td>\n",
       "      <td>2012</td>\n",
       "      <td>143.0</td>\n",
       "      <td>Action,Adventure,Sci-Fi</td>\n",
       "      <td>tt0848228</td>\n",
       "      <td>8.1</td>\n",
       "      <td>1183655</td>\n",
       "      <td>tt0848228</td>\n",
       "      <td>nm0923736</td>\n",
       "      <td>nm0923736</td>\n",
       "      <td>Joss Whedon</td>\n",
       "      <td>1964.0</td>\n",
       "      <td>NaN</td>\n",
       "      <td>writer,producer,director</td>\n",
       "    </tr>\n",
       "  </tbody>\n",
       "</table>\n",
       "</div>"
      ],
      "text/plain": [
       "   Unnamed: 0   movie_id          primary_title         original_title  \\\n",
       "0           0  tt1375666              Inception              Inception   \n",
       "1           1  tt1345836  The Dark Knight Rises  The Dark Knight Rises   \n",
       "2           2  tt0816692           Interstellar           Interstellar   \n",
       "3           3  tt1853728       Django Unchained       Django Unchained   \n",
       "4           4  tt0848228           The Avengers           The Avengers   \n",
       "\n",
       "   start_year  runtime_minutes                   genres movie_id.1  \\\n",
       "0        2010            148.0  Action,Adventure,Sci-Fi  tt1375666   \n",
       "1        2012            164.0          Action,Thriller  tt1345836   \n",
       "2        2014            169.0   Adventure,Drama,Sci-Fi  tt0816692   \n",
       "3        2012            165.0            Drama,Western  tt1853728   \n",
       "4        2012            143.0  Action,Adventure,Sci-Fi  tt0848228   \n",
       "\n",
       "   averagerating  numvotes movie_id.2  person_id person_id.1  \\\n",
       "0            8.8   1841066  tt1375666  nm0634240   nm0634240   \n",
       "1            8.4   1387769  tt1345836  nm0634240   nm0634240   \n",
       "2            8.6   1299334  tt0816692  nm0634240   nm0634240   \n",
       "3            8.4   1211405  tt1853728  nm0000233   nm0000233   \n",
       "4            8.1   1183655  tt0848228  nm0923736   nm0923736   \n",
       "\n",
       "        primary_name  birth_year  death_year        primary_profession  \n",
       "0  Christopher Nolan      1970.0         NaN  writer,producer,director  \n",
       "1  Christopher Nolan      1970.0         NaN  writer,producer,director  \n",
       "2  Christopher Nolan      1970.0         NaN  writer,producer,director  \n",
       "3  Quentin Tarantino      1963.0         NaN     writer,actor,producer  \n",
       "4        Joss Whedon      1964.0         NaN  writer,producer,director  "
      ]
     },
     "execution_count": 18,
     "metadata": {},
     "output_type": "execute_result"
    }
   ],
   "source": [
    "imdb.head()"
   ]
  },
  {
   "cell_type": "code",
   "execution_count": 19,
   "metadata": {},
   "outputs": [
    {
     "data": {
      "text/plain": [
       "(86030, 17)"
      ]
     },
     "execution_count": 19,
     "metadata": {},
     "output_type": "execute_result"
    }
   ],
   "source": [
    "imdb.shape"
   ]
  },
  {
   "cell_type": "code",
   "execution_count": 20,
   "metadata": {},
   "outputs": [],
   "source": [
    "rel_imdb = imdb[['primary_title', 'genres', 'averagerating', 'numvotes', 'primary_name']]"
   ]
  },
  {
   "cell_type": "code",
   "execution_count": 21,
   "metadata": {
    "scrolled": true
   },
   "outputs": [
    {
     "data": {
      "text/plain": [
       "primary_title      0\n",
       "genres           798\n",
       "averagerating      0\n",
       "numvotes           0\n",
       "primary_name       0\n",
       "dtype: int64"
      ]
     },
     "execution_count": 21,
     "metadata": {},
     "output_type": "execute_result"
    }
   ],
   "source": [
    "rel_imdb.isna().sum()"
   ]
  },
  {
   "cell_type": "code",
   "execution_count": 22,
   "metadata": {},
   "outputs": [],
   "source": [
    "rel_imdb = rel_imdb.dropna()"
   ]
  },
  {
   "cell_type": "code",
   "execution_count": 23,
   "metadata": {},
   "outputs": [],
   "source": [
    "rel_imdb['genres'] = rel_imdb['genres'].str.split(',')"
   ]
  },
  {
   "cell_type": "code",
   "execution_count": 24,
   "metadata": {
    "scrolled": true
   },
   "outputs": [],
   "source": [
    "rel_imdb = rel_imdb.explode('genres')"
   ]
  },
  {
   "cell_type": "markdown",
   "metadata": {},
   "source": [
    "#### Using this df for popular genres chart"
   ]
  },
  {
   "cell_type": "code",
   "execution_count": 25,
   "metadata": {
    "scrolled": false
   },
   "outputs": [
    {
     "data": {
      "text/html": [
       "<div>\n",
       "<style scoped>\n",
       "    .dataframe tbody tr th:only-of-type {\n",
       "        vertical-align: middle;\n",
       "    }\n",
       "\n",
       "    .dataframe tbody tr th {\n",
       "        vertical-align: top;\n",
       "    }\n",
       "\n",
       "    .dataframe thead th {\n",
       "        text-align: right;\n",
       "    }\n",
       "</style>\n",
       "<table border=\"1\" class=\"dataframe\">\n",
       "  <thead>\n",
       "    <tr style=\"text-align: right;\">\n",
       "      <th></th>\n",
       "      <th>primary_title</th>\n",
       "      <th>genres</th>\n",
       "      <th>averagerating</th>\n",
       "      <th>numvotes</th>\n",
       "      <th>primary_name</th>\n",
       "    </tr>\n",
       "  </thead>\n",
       "  <tbody>\n",
       "    <tr>\n",
       "      <th>0</th>\n",
       "      <td>Inception</td>\n",
       "      <td>Action</td>\n",
       "      <td>8.8</td>\n",
       "      <td>1841066</td>\n",
       "      <td>Christopher Nolan</td>\n",
       "    </tr>\n",
       "    <tr>\n",
       "      <th>0</th>\n",
       "      <td>Inception</td>\n",
       "      <td>Adventure</td>\n",
       "      <td>8.8</td>\n",
       "      <td>1841066</td>\n",
       "      <td>Christopher Nolan</td>\n",
       "    </tr>\n",
       "    <tr>\n",
       "      <th>0</th>\n",
       "      <td>Inception</td>\n",
       "      <td>Sci-Fi</td>\n",
       "      <td>8.8</td>\n",
       "      <td>1841066</td>\n",
       "      <td>Christopher Nolan</td>\n",
       "    </tr>\n",
       "    <tr>\n",
       "      <th>1</th>\n",
       "      <td>The Dark Knight Rises</td>\n",
       "      <td>Action</td>\n",
       "      <td>8.4</td>\n",
       "      <td>1387769</td>\n",
       "      <td>Christopher Nolan</td>\n",
       "    </tr>\n",
       "    <tr>\n",
       "      <th>1</th>\n",
       "      <td>The Dark Knight Rises</td>\n",
       "      <td>Thriller</td>\n",
       "      <td>8.4</td>\n",
       "      <td>1387769</td>\n",
       "      <td>Christopher Nolan</td>\n",
       "    </tr>\n",
       "  </tbody>\n",
       "</table>\n",
       "</div>"
      ],
      "text/plain": [
       "           primary_title     genres  averagerating  numvotes  \\\n",
       "0              Inception     Action            8.8   1841066   \n",
       "0              Inception  Adventure            8.8   1841066   \n",
       "0              Inception     Sci-Fi            8.8   1841066   \n",
       "1  The Dark Knight Rises     Action            8.4   1387769   \n",
       "1  The Dark Knight Rises   Thriller            8.4   1387769   \n",
       "\n",
       "        primary_name  \n",
       "0  Christopher Nolan  \n",
       "0  Christopher Nolan  \n",
       "0  Christopher Nolan  \n",
       "1  Christopher Nolan  \n",
       "1  Christopher Nolan  "
      ]
     },
     "execution_count": 25,
     "metadata": {},
     "output_type": "execute_result"
    }
   ],
   "source": [
    "rel_imdb.head()"
   ]
  },
  {
   "cell_type": "markdown",
   "metadata": {},
   "source": [
    "## Most Popular studios\n",
    "- will have to merge imdb with bom to get popular studios"
   ]
  },
  {
   "cell_type": "code",
   "execution_count": 26,
   "metadata": {},
   "outputs": [
    {
     "data": {
      "text/html": [
       "<div>\n",
       "<style scoped>\n",
       "    .dataframe tbody tr th:only-of-type {\n",
       "        vertical-align: middle;\n",
       "    }\n",
       "\n",
       "    .dataframe tbody tr th {\n",
       "        vertical-align: top;\n",
       "    }\n",
       "\n",
       "    .dataframe thead th {\n",
       "        text-align: right;\n",
       "    }\n",
       "</style>\n",
       "<table border=\"1\" class=\"dataframe\">\n",
       "  <thead>\n",
       "    <tr style=\"text-align: right;\">\n",
       "      <th></th>\n",
       "      <th>title</th>\n",
       "      <th>studio</th>\n",
       "      <th>domestic_gross</th>\n",
       "      <th>foreign_gross</th>\n",
       "      <th>year</th>\n",
       "      <th>movie year</th>\n",
       "    </tr>\n",
       "  </thead>\n",
       "  <tbody>\n",
       "    <tr>\n",
       "      <th>0</th>\n",
       "      <td>Toy Story 3</td>\n",
       "      <td>BV</td>\n",
       "      <td>415000000.0</td>\n",
       "      <td>652000000</td>\n",
       "      <td>2010</td>\n",
       "      <td>Toy Story 3 2010</td>\n",
       "    </tr>\n",
       "    <tr>\n",
       "      <th>1</th>\n",
       "      <td>Alice in Wonderland (2010)</td>\n",
       "      <td>BV</td>\n",
       "      <td>334200000.0</td>\n",
       "      <td>691300000</td>\n",
       "      <td>2010</td>\n",
       "      <td>Alice in Wonderland (2010) 2010</td>\n",
       "    </tr>\n",
       "    <tr>\n",
       "      <th>2</th>\n",
       "      <td>Harry Potter and the Deathly Hallows Part 1</td>\n",
       "      <td>WB</td>\n",
       "      <td>296000000.0</td>\n",
       "      <td>664300000</td>\n",
       "      <td>2010</td>\n",
       "      <td>Harry Potter and the Deathly Hallows Part 1 2010</td>\n",
       "    </tr>\n",
       "    <tr>\n",
       "      <th>3</th>\n",
       "      <td>Inception</td>\n",
       "      <td>WB</td>\n",
       "      <td>292600000.0</td>\n",
       "      <td>535700000</td>\n",
       "      <td>2010</td>\n",
       "      <td>Inception 2010</td>\n",
       "    </tr>\n",
       "    <tr>\n",
       "      <th>4</th>\n",
       "      <td>Shrek Forever After</td>\n",
       "      <td>P/DW</td>\n",
       "      <td>238700000.0</td>\n",
       "      <td>513900000</td>\n",
       "      <td>2010</td>\n",
       "      <td>Shrek Forever After 2010</td>\n",
       "    </tr>\n",
       "  </tbody>\n",
       "</table>\n",
       "</div>"
      ],
      "text/plain": [
       "                                         title studio  domestic_gross  \\\n",
       "0                                  Toy Story 3     BV     415000000.0   \n",
       "1                   Alice in Wonderland (2010)     BV     334200000.0   \n",
       "2  Harry Potter and the Deathly Hallows Part 1     WB     296000000.0   \n",
       "3                                    Inception     WB     292600000.0   \n",
       "4                          Shrek Forever After   P/DW     238700000.0   \n",
       "\n",
       "  foreign_gross  year                                        movie year  \n",
       "0     652000000  2010                                  Toy Story 3 2010  \n",
       "1     691300000  2010                   Alice in Wonderland (2010) 2010  \n",
       "2     664300000  2010  Harry Potter and the Deathly Hallows Part 1 2010  \n",
       "3     535700000  2010                                    Inception 2010  \n",
       "4     513900000  2010                          Shrek Forever After 2010  "
      ]
     },
     "execution_count": 26,
     "metadata": {},
     "output_type": "execute_result"
    }
   ],
   "source": [
    "bom_clean.head()"
   ]
  },
  {
   "cell_type": "code",
   "execution_count": 27,
   "metadata": {},
   "outputs": [
    {
     "data": {
      "text/html": [
       "<div>\n",
       "<style scoped>\n",
       "    .dataframe tbody tr th:only-of-type {\n",
       "        vertical-align: middle;\n",
       "    }\n",
       "\n",
       "    .dataframe tbody tr th {\n",
       "        vertical-align: top;\n",
       "    }\n",
       "\n",
       "    .dataframe thead th {\n",
       "        text-align: right;\n",
       "    }\n",
       "</style>\n",
       "<table border=\"1\" class=\"dataframe\">\n",
       "  <thead>\n",
       "    <tr style=\"text-align: right;\">\n",
       "      <th></th>\n",
       "      <th>Unnamed: 0</th>\n",
       "      <th>movie_id</th>\n",
       "      <th>primary_title</th>\n",
       "      <th>original_title</th>\n",
       "      <th>start_year</th>\n",
       "      <th>runtime_minutes</th>\n",
       "      <th>genres</th>\n",
       "      <th>movie_id.1</th>\n",
       "      <th>averagerating</th>\n",
       "      <th>numvotes</th>\n",
       "      <th>movie_id.2</th>\n",
       "      <th>person_id</th>\n",
       "      <th>person_id.1</th>\n",
       "      <th>primary_name</th>\n",
       "      <th>birth_year</th>\n",
       "      <th>death_year</th>\n",
       "      <th>primary_profession</th>\n",
       "    </tr>\n",
       "  </thead>\n",
       "  <tbody>\n",
       "    <tr>\n",
       "      <th>0</th>\n",
       "      <td>0</td>\n",
       "      <td>tt1375666</td>\n",
       "      <td>Inception</td>\n",
       "      <td>Inception</td>\n",
       "      <td>2010</td>\n",
       "      <td>148.0</td>\n",
       "      <td>Action,Adventure,Sci-Fi</td>\n",
       "      <td>tt1375666</td>\n",
       "      <td>8.8</td>\n",
       "      <td>1841066</td>\n",
       "      <td>tt1375666</td>\n",
       "      <td>nm0634240</td>\n",
       "      <td>nm0634240</td>\n",
       "      <td>Christopher Nolan</td>\n",
       "      <td>1970.0</td>\n",
       "      <td>NaN</td>\n",
       "      <td>writer,producer,director</td>\n",
       "    </tr>\n",
       "    <tr>\n",
       "      <th>1</th>\n",
       "      <td>1</td>\n",
       "      <td>tt1345836</td>\n",
       "      <td>The Dark Knight Rises</td>\n",
       "      <td>The Dark Knight Rises</td>\n",
       "      <td>2012</td>\n",
       "      <td>164.0</td>\n",
       "      <td>Action,Thriller</td>\n",
       "      <td>tt1345836</td>\n",
       "      <td>8.4</td>\n",
       "      <td>1387769</td>\n",
       "      <td>tt1345836</td>\n",
       "      <td>nm0634240</td>\n",
       "      <td>nm0634240</td>\n",
       "      <td>Christopher Nolan</td>\n",
       "      <td>1970.0</td>\n",
       "      <td>NaN</td>\n",
       "      <td>writer,producer,director</td>\n",
       "    </tr>\n",
       "    <tr>\n",
       "      <th>2</th>\n",
       "      <td>2</td>\n",
       "      <td>tt0816692</td>\n",
       "      <td>Interstellar</td>\n",
       "      <td>Interstellar</td>\n",
       "      <td>2014</td>\n",
       "      <td>169.0</td>\n",
       "      <td>Adventure,Drama,Sci-Fi</td>\n",
       "      <td>tt0816692</td>\n",
       "      <td>8.6</td>\n",
       "      <td>1299334</td>\n",
       "      <td>tt0816692</td>\n",
       "      <td>nm0634240</td>\n",
       "      <td>nm0634240</td>\n",
       "      <td>Christopher Nolan</td>\n",
       "      <td>1970.0</td>\n",
       "      <td>NaN</td>\n",
       "      <td>writer,producer,director</td>\n",
       "    </tr>\n",
       "    <tr>\n",
       "      <th>3</th>\n",
       "      <td>3</td>\n",
       "      <td>tt1853728</td>\n",
       "      <td>Django Unchained</td>\n",
       "      <td>Django Unchained</td>\n",
       "      <td>2012</td>\n",
       "      <td>165.0</td>\n",
       "      <td>Drama,Western</td>\n",
       "      <td>tt1853728</td>\n",
       "      <td>8.4</td>\n",
       "      <td>1211405</td>\n",
       "      <td>tt1853728</td>\n",
       "      <td>nm0000233</td>\n",
       "      <td>nm0000233</td>\n",
       "      <td>Quentin Tarantino</td>\n",
       "      <td>1963.0</td>\n",
       "      <td>NaN</td>\n",
       "      <td>writer,actor,producer</td>\n",
       "    </tr>\n",
       "    <tr>\n",
       "      <th>4</th>\n",
       "      <td>4</td>\n",
       "      <td>tt0848228</td>\n",
       "      <td>The Avengers</td>\n",
       "      <td>The Avengers</td>\n",
       "      <td>2012</td>\n",
       "      <td>143.0</td>\n",
       "      <td>Action,Adventure,Sci-Fi</td>\n",
       "      <td>tt0848228</td>\n",
       "      <td>8.1</td>\n",
       "      <td>1183655</td>\n",
       "      <td>tt0848228</td>\n",
       "      <td>nm0923736</td>\n",
       "      <td>nm0923736</td>\n",
       "      <td>Joss Whedon</td>\n",
       "      <td>1964.0</td>\n",
       "      <td>NaN</td>\n",
       "      <td>writer,producer,director</td>\n",
       "    </tr>\n",
       "  </tbody>\n",
       "</table>\n",
       "</div>"
      ],
      "text/plain": [
       "   Unnamed: 0   movie_id          primary_title         original_title  \\\n",
       "0           0  tt1375666              Inception              Inception   \n",
       "1           1  tt1345836  The Dark Knight Rises  The Dark Knight Rises   \n",
       "2           2  tt0816692           Interstellar           Interstellar   \n",
       "3           3  tt1853728       Django Unchained       Django Unchained   \n",
       "4           4  tt0848228           The Avengers           The Avengers   \n",
       "\n",
       "   start_year  runtime_minutes                   genres movie_id.1  \\\n",
       "0        2010            148.0  Action,Adventure,Sci-Fi  tt1375666   \n",
       "1        2012            164.0          Action,Thriller  tt1345836   \n",
       "2        2014            169.0   Adventure,Drama,Sci-Fi  tt0816692   \n",
       "3        2012            165.0            Drama,Western  tt1853728   \n",
       "4        2012            143.0  Action,Adventure,Sci-Fi  tt0848228   \n",
       "\n",
       "   averagerating  numvotes movie_id.2  person_id person_id.1  \\\n",
       "0            8.8   1841066  tt1375666  nm0634240   nm0634240   \n",
       "1            8.4   1387769  tt1345836  nm0634240   nm0634240   \n",
       "2            8.6   1299334  tt0816692  nm0634240   nm0634240   \n",
       "3            8.4   1211405  tt1853728  nm0000233   nm0000233   \n",
       "4            8.1   1183655  tt0848228  nm0923736   nm0923736   \n",
       "\n",
       "        primary_name  birth_year  death_year        primary_profession  \n",
       "0  Christopher Nolan      1970.0         NaN  writer,producer,director  \n",
       "1  Christopher Nolan      1970.0         NaN  writer,producer,director  \n",
       "2  Christopher Nolan      1970.0         NaN  writer,producer,director  \n",
       "3  Quentin Tarantino      1963.0         NaN     writer,actor,producer  \n",
       "4        Joss Whedon      1964.0         NaN  writer,producer,director  "
      ]
     },
     "execution_count": 27,
     "metadata": {},
     "output_type": "execute_result"
    }
   ],
   "source": [
    "imdb.head()"
   ]
  },
  {
   "cell_type": "code",
   "execution_count": 28,
   "metadata": {},
   "outputs": [],
   "source": [
    "relevant_col = imdb[['primary_title', 'start_year', 'numvotes', 'averagerating']]"
   ]
  },
  {
   "cell_type": "code",
   "execution_count": 29,
   "metadata": {},
   "outputs": [
    {
     "name": "stderr",
     "output_type": "stream",
     "text": [
      "<ipython-input-29-c54208553c70>:1: SettingWithCopyWarning: \n",
      "A value is trying to be set on a copy of a slice from a DataFrame.\n",
      "Try using .loc[row_indexer,col_indexer] = value instead\n",
      "\n",
      "See the caveats in the documentation: https://pandas.pydata.org/pandas-docs/stable/user_guide/indexing.html#returning-a-view-versus-a-copy\n",
      "  relevant_col['movie year'] = relevant_col['primary_title'] + \" \" + relevant_col['start_year'].astype(str)\n"
     ]
    }
   ],
   "source": [
    "relevant_col['movie year'] = relevant_col['primary_title'] + \" \" + relevant_col['start_year'].astype(str)"
   ]
  },
  {
   "cell_type": "code",
   "execution_count": 30,
   "metadata": {},
   "outputs": [],
   "source": [
    "bom_imdb = bom.merge(relevant_col, on='movie year')"
   ]
  },
  {
   "cell_type": "code",
   "execution_count": 31,
   "metadata": {},
   "outputs": [
    {
     "data": {
      "text/plain": [
       "(2078, 10)"
      ]
     },
     "execution_count": 31,
     "metadata": {},
     "output_type": "execute_result"
    }
   ],
   "source": [
    "bom_imdb.shape"
   ]
  },
  {
   "cell_type": "code",
   "execution_count": 32,
   "metadata": {},
   "outputs": [
    {
     "data": {
      "text/plain": [
       "(1822, 10)"
      ]
     },
     "execution_count": 32,
     "metadata": {},
     "output_type": "execute_result"
    }
   ],
   "source": [
    "bom_imdb.drop_duplicates('movie year', keep='first').shape"
   ]
  },
  {
   "cell_type": "markdown",
   "metadata": {},
   "source": [
    "- we will lose aorund 12% of data, we will still have 1822 movies to gather data from\n",
    "- we think this is fine, its enough movies to get reliable data"
   ]
  },
  {
   "cell_type": "code",
   "execution_count": 33,
   "metadata": {},
   "outputs": [],
   "source": [
    "bom_imdb = bom_imdb.sort_values('numvotes', ascending=False)"
   ]
  },
  {
   "cell_type": "code",
   "execution_count": 34,
   "metadata": {},
   "outputs": [],
   "source": [
    "bom_imdb_clean = bom_imdb.drop_duplicates('movie year', keep='first')"
   ]
  },
  {
   "cell_type": "code",
   "execution_count": 35,
   "metadata": {
    "scrolled": true
   },
   "outputs": [
    {
     "name": "stderr",
     "output_type": "stream",
     "text": [
      "C:\\Users\\dcv_2\\anaconda3\\envs\\learn-env\\lib\\site-packages\\pandas\\core\\series.py:4563: SettingWithCopyWarning: \n",
      "A value is trying to be set on a copy of a slice from a DataFrame\n",
      "\n",
      "See the caveats in the documentation: https://pandas.pydata.org/pandas-docs/stable/user_guide/indexing.html#returning-a-view-versus-a-copy\n",
      "  return super().replace(\n"
     ]
    }
   ],
   "source": [
    "bom_imdb_clean['studio'].replace({'FoxS': 'Fox', 'BV': 'BV (Disney)', 'SPC': 'Sony', 'WB (NL)' : 'WB'}, inplace=True)"
   ]
  },
  {
   "cell_type": "code",
   "execution_count": 36,
   "metadata": {},
   "outputs": [],
   "source": [
    "pop_studios = bom_imdb_clean.groupby('studio')['numvotes'].mean().sort_values()[::-1]"
   ]
  },
  {
   "cell_type": "markdown",
   "metadata": {},
   "source": [
    "#### Using this series for popular studios chart"
   ]
  },
  {
   "cell_type": "code",
   "execution_count": 37,
   "metadata": {
    "scrolled": false
   },
   "outputs": [
    {
     "data": {
      "text/plain": [
       "studio\n",
       "BV (Disney)    229164.783133\n",
       "P/DW           213462.000000\n",
       "Par.           196643.320513\n",
       "WB             195390.608392\n",
       "Wein.          166325.000000\n",
       "Name: numvotes, dtype: float64"
      ]
     },
     "execution_count": 37,
     "metadata": {},
     "output_type": "execute_result"
    }
   ],
   "source": [
    "pop_studios.head()"
   ]
  },
  {
   "cell_type": "code",
   "execution_count": null,
   "metadata": {},
   "outputs": [],
   "source": []
  },
  {
   "cell_type": "markdown",
   "metadata": {},
   "source": [
    "# Using Seaborn to Make Graphs"
   ]
  },
  {
   "cell_type": "code",
   "execution_count": 38,
   "metadata": {},
   "outputs": [],
   "source": [
    "studios = ['Disney', 'DreamWorks', 'Paramount', 'Warner B.', 'Weinstein', 'Lionsgate', 'Neon', 'Universal', 'Summit Ent.', 'Fox']\n"
   ]
  },
  {
   "cell_type": "code",
   "execution_count": 39,
   "metadata": {},
   "outputs": [
    {
     "data": {
      "image/png": "[encoded data removed]",
      "text/plain": [
       "<Figure size 1080x576 with 1 Axes>"
      ]
     },
     "metadata": {
      "needs_background": "light"
     },
     "output_type": "display_data"
    }
   ],
   "source": [
    "plt.figure(figsize=(15,8))\n",
    "sns.set_style('whitegrid')\n",
    "\n",
    "pop_mean = pop_studios.values[:10].mean()\n",
    "\n",
    "col = np.where(pop_studios.values[:10] > pop_mean, '#10DFBC', '#E2522F')\n",
    "\n",
    "ax4 = sns.barplot(y=studios, \n",
    "                      x=pop_studios.values[:10], \n",
    "                      orient='h', \n",
    "                      palette = col)\n",
    "ax4.xaxis.set_major_formatter(StrMethodFormatter('{x:,.0f}'))\n",
    "#palette=sns.blend_palette(['#76BA1B', '#1E5631'], 10)\n",
    "plt.title('Popular Studios\\n', fontsize = 25)\n",
    "plt.ylabel('')\n",
    "plt.xlabel('\\nAverage Vote Count', fontsize = 16)\n",
    "plt.yticks(fontsize=18)\n",
    "plt.xticks(fontsize=15)\n",
    "plt.axvline(pop_mean, color='red', ls='dotted');"
   ]
  },
  {
   "cell_type": "code",
   "execution_count": 40,
   "metadata": {},
   "outputs": [],
   "source": [
    "gen_vs_pop = rel_imdb.groupby('genres')['numvotes'].mean().sort_values()[::-1]\n",
    "genre = gen_vs_pop.index\n",
    "genre_values = gen_vs_pop.values"
   ]
  },
  {
   "cell_type": "code",
   "execution_count": 41,
   "metadata": {},
   "outputs": [
    {
     "name": "stdout",
     "output_type": "stream",
     "text": [
      "README.md\n",
      "final_notebook.ipynb\n",
      "imdbCSV.csv\n",
      "movie_info\n",
      "photos\n",
      "popular_work\n",
      "profit_work\n",
      "zippedData\n"
     ]
    }
   ],
   "source": [
    "!ls\n"
   ]
  },
  {
   "cell_type": "code",
   "execution_count": 42,
   "metadata": {},
   "outputs": [
    {
     "data": {
      "image/png": "[encoded data removed]",
      "text/plain": [
       "<Figure size 1080x576 with 1 Axes>"
      ]
     },
     "metadata": {},
     "output_type": "display_data"
    }
   ],
   "source": [
    "plt.figure(figsize=(15,8))\n",
    "sns.set_style('whitegrid')\n",
    "\n",
    "gen_mean = genre_values[:10].mean()\n",
    "\n",
    "c = np.where(genre_values[:10] > gen_mean, '#10DFBC', '#E2522F')\n",
    "\n",
    "ax5 = sns.barplot(y=genre[:10], \n",
    "                      x=genre_values[:10], \n",
    "                      orient='h', \n",
    "                      palette=c)\n",
    "ax5.xaxis.set_major_formatter(StrMethodFormatter('{x:,.0f}'))\n",
    "plt.title('Popular Genres\\n', fontsize = 25)\n",
    "plt.ylabel('')\n",
    "plt.xlabel('\\nAverage Vote Count', fontsize = 16)\n",
    "plt.yticks(fontsize=18)\n",
    "plt.xticks(fontsize=15)\n",
    "plt.axvline(gen_mean, color='red', ls='dotted')\n",
    "plt.savefig('photos/popGen.png');"
   ]
  },
  {
   "cell_type": "markdown",
   "metadata": {},
   "source": [
    "## Creating Popular Director Graph"
   ]
  },
  {
   "cell_type": "code",
   "execution_count": 43,
   "metadata": {
    "scrolled": true
   },
   "outputs": [
    {
     "data": {
      "text/html": [
       "<div>\n",
       "<style scoped>\n",
       "    .dataframe tbody tr th:only-of-type {\n",
       "        vertical-align: middle;\n",
       "    }\n",
       "\n",
       "    .dataframe tbody tr th {\n",
       "        vertical-align: top;\n",
       "    }\n",
       "\n",
       "    .dataframe thead th {\n",
       "        text-align: right;\n",
       "    }\n",
       "</style>\n",
       "<table border=\"1\" class=\"dataframe\">\n",
       "  <thead>\n",
       "    <tr style=\"text-align: right;\">\n",
       "      <th></th>\n",
       "      <th>Unnamed: 0</th>\n",
       "      <th>movie_id</th>\n",
       "      <th>primary_title</th>\n",
       "      <th>original_title</th>\n",
       "      <th>start_year</th>\n",
       "      <th>runtime_minutes</th>\n",
       "      <th>genres</th>\n",
       "      <th>movie_id.1</th>\n",
       "      <th>averagerating</th>\n",
       "      <th>numvotes</th>\n",
       "      <th>movie_id.2</th>\n",
       "      <th>person_id</th>\n",
       "      <th>person_id.1</th>\n",
       "      <th>primary_name</th>\n",
       "      <th>birth_year</th>\n",
       "      <th>death_year</th>\n",
       "      <th>primary_profession</th>\n",
       "    </tr>\n",
       "  </thead>\n",
       "  <tbody>\n",
       "    <tr>\n",
       "      <th>0</th>\n",
       "      <td>0</td>\n",
       "      <td>tt1375666</td>\n",
       "      <td>Inception</td>\n",
       "      <td>Inception</td>\n",
       "      <td>2010</td>\n",
       "      <td>148.0</td>\n",
       "      <td>Action,Adventure,Sci-Fi</td>\n",
       "      <td>tt1375666</td>\n",
       "      <td>8.8</td>\n",
       "      <td>1841066</td>\n",
       "      <td>tt1375666</td>\n",
       "      <td>nm0634240</td>\n",
       "      <td>nm0634240</td>\n",
       "      <td>Christopher Nolan</td>\n",
       "      <td>1970.0</td>\n",
       "      <td>NaN</td>\n",
       "      <td>writer,producer,director</td>\n",
       "    </tr>\n",
       "    <tr>\n",
       "      <th>1</th>\n",
       "      <td>1</td>\n",
       "      <td>tt1345836</td>\n",
       "      <td>The Dark Knight Rises</td>\n",
       "      <td>The Dark Knight Rises</td>\n",
       "      <td>2012</td>\n",
       "      <td>164.0</td>\n",
       "      <td>Action,Thriller</td>\n",
       "      <td>tt1345836</td>\n",
       "      <td>8.4</td>\n",
       "      <td>1387769</td>\n",
       "      <td>tt1345836</td>\n",
       "      <td>nm0634240</td>\n",
       "      <td>nm0634240</td>\n",
       "      <td>Christopher Nolan</td>\n",
       "      <td>1970.0</td>\n",
       "      <td>NaN</td>\n",
       "      <td>writer,producer,director</td>\n",
       "    </tr>\n",
       "    <tr>\n",
       "      <th>2</th>\n",
       "      <td>2</td>\n",
       "      <td>tt0816692</td>\n",
       "      <td>Interstellar</td>\n",
       "      <td>Interstellar</td>\n",
       "      <td>2014</td>\n",
       "      <td>169.0</td>\n",
       "      <td>Adventure,Drama,Sci-Fi</td>\n",
       "      <td>tt0816692</td>\n",
       "      <td>8.6</td>\n",
       "      <td>1299334</td>\n",
       "      <td>tt0816692</td>\n",
       "      <td>nm0634240</td>\n",
       "      <td>nm0634240</td>\n",
       "      <td>Christopher Nolan</td>\n",
       "      <td>1970.0</td>\n",
       "      <td>NaN</td>\n",
       "      <td>writer,producer,director</td>\n",
       "    </tr>\n",
       "    <tr>\n",
       "      <th>3</th>\n",
       "      <td>3</td>\n",
       "      <td>tt1853728</td>\n",
       "      <td>Django Unchained</td>\n",
       "      <td>Django Unchained</td>\n",
       "      <td>2012</td>\n",
       "      <td>165.0</td>\n",
       "      <td>Drama,Western</td>\n",
       "      <td>tt1853728</td>\n",
       "      <td>8.4</td>\n",
       "      <td>1211405</td>\n",
       "      <td>tt1853728</td>\n",
       "      <td>nm0000233</td>\n",
       "      <td>nm0000233</td>\n",
       "      <td>Quentin Tarantino</td>\n",
       "      <td>1963.0</td>\n",
       "      <td>NaN</td>\n",
       "      <td>writer,actor,producer</td>\n",
       "    </tr>\n",
       "    <tr>\n",
       "      <th>4</th>\n",
       "      <td>4</td>\n",
       "      <td>tt0848228</td>\n",
       "      <td>The Avengers</td>\n",
       "      <td>The Avengers</td>\n",
       "      <td>2012</td>\n",
       "      <td>143.0</td>\n",
       "      <td>Action,Adventure,Sci-Fi</td>\n",
       "      <td>tt0848228</td>\n",
       "      <td>8.1</td>\n",
       "      <td>1183655</td>\n",
       "      <td>tt0848228</td>\n",
       "      <td>nm0923736</td>\n",
       "      <td>nm0923736</td>\n",
       "      <td>Joss Whedon</td>\n",
       "      <td>1964.0</td>\n",
       "      <td>NaN</td>\n",
       "      <td>writer,producer,director</td>\n",
       "    </tr>\n",
       "  </tbody>\n",
       "</table>\n",
       "</div>"
      ],
      "text/plain": [
       "   Unnamed: 0   movie_id          primary_title         original_title  \\\n",
       "0           0  tt1375666              Inception              Inception   \n",
       "1           1  tt1345836  The Dark Knight Rises  The Dark Knight Rises   \n",
       "2           2  tt0816692           Interstellar           Interstellar   \n",
       "3           3  tt1853728       Django Unchained       Django Unchained   \n",
       "4           4  tt0848228           The Avengers           The Avengers   \n",
       "\n",
       "   start_year  runtime_minutes                   genres movie_id.1  \\\n",
       "0        2010            148.0  Action,Adventure,Sci-Fi  tt1375666   \n",
       "1        2012            164.0          Action,Thriller  tt1345836   \n",
       "2        2014            169.0   Adventure,Drama,Sci-Fi  tt0816692   \n",
       "3        2012            165.0            Drama,Western  tt1853728   \n",
       "4        2012            143.0  Action,Adventure,Sci-Fi  tt0848228   \n",
       "\n",
       "   averagerating  numvotes movie_id.2  person_id person_id.1  \\\n",
       "0            8.8   1841066  tt1375666  nm0634240   nm0634240   \n",
       "1            8.4   1387769  tt1345836  nm0634240   nm0634240   \n",
       "2            8.6   1299334  tt0816692  nm0634240   nm0634240   \n",
       "3            8.4   1211405  tt1853728  nm0000233   nm0000233   \n",
       "4            8.1   1183655  tt0848228  nm0923736   nm0923736   \n",
       "\n",
       "        primary_name  birth_year  death_year        primary_profession  \n",
       "0  Christopher Nolan      1970.0         NaN  writer,producer,director  \n",
       "1  Christopher Nolan      1970.0         NaN  writer,producer,director  \n",
       "2  Christopher Nolan      1970.0         NaN  writer,producer,director  \n",
       "3  Quentin Tarantino      1963.0         NaN     writer,actor,producer  \n",
       "4        Joss Whedon      1964.0         NaN  writer,producer,director  "
      ]
     },
     "execution_count": 43,
     "metadata": {},
     "output_type": "execute_result"
    }
   ],
   "source": [
    "imdb.head()"
   ]
  },
  {
   "cell_type": "code",
   "execution_count": 44,
   "metadata": {},
   "outputs": [],
   "source": [
    "dir_df = imdb[['primary_title', 'numvotes', 'primary_name', 'start_year']]"
   ]
  },
  {
   "cell_type": "code",
   "execution_count": 45,
   "metadata": {},
   "outputs": [
    {
     "name": "stderr",
     "output_type": "stream",
     "text": [
      "<ipython-input-45-8c3db98230c6>:1: SettingWithCopyWarning: \n",
      "A value is trying to be set on a copy of a slice from a DataFrame.\n",
      "Try using .loc[row_indexer,col_indexer] = value instead\n",
      "\n",
      "See the caveats in the documentation: https://pandas.pydata.org/pandas-docs/stable/user_guide/indexing.html#returning-a-view-versus-a-copy\n",
      "  dir_df['movie year'] = dir_df['primary_title'] + \" \" + dir_df['start_year'].astype(str)\n"
     ]
    }
   ],
   "source": [
    "dir_df['movie year'] = dir_df['primary_title'] + \" \" + dir_df['start_year'].astype(str)"
   ]
  },
  {
   "cell_type": "code",
   "execution_count": 46,
   "metadata": {
    "scrolled": true
   },
   "outputs": [],
   "source": [
    "clean_dir_df = dir_df.sort_values(by='numvotes', ascending=False).drop_duplicates(subset=['movie year'], keep='first')\n"
   ]
  },
  {
   "cell_type": "code",
   "execution_count": 47,
   "metadata": {},
   "outputs": [],
   "source": [
    "pd.set_option('display.float_format', lambda x: '%.5f' % x)"
   ]
  },
  {
   "cell_type": "code",
   "execution_count": 48,
   "metadata": {},
   "outputs": [],
   "source": [
    "pop_dir = clean_dir_df.groupby('primary_name')['numvotes'].mean().sort_values()[::-1]"
   ]
  },
  {
   "cell_type": "code",
   "execution_count": 49,
   "metadata": {
    "scrolled": false
   },
   "outputs": [
    {
     "data": {
      "image/png": "[encoded data removed]",
      "text/plain": [
       "<Figure size 1080x576 with 1 Axes>"
      ]
     },
     "metadata": {},
     "output_type": "display_data"
    }
   ],
   "source": [
    "plt.figure(figsize=(15,8))\n",
    "sns.set_style('whitegrid')\n",
    "\n",
    "dir_mean = pop_dir.values[:10].mean()\n",
    "\n",
    "co = np.where(pop_dir.values[:10] > dir_mean, '#10DFBC', '#E2522F')\n",
    "\n",
    "axtest = sns.barplot(y=pop_dir.index[:10], \n",
    "                      x=pop_dir.values[:10], \n",
    "                      orient='h', \n",
    "                      palette=co)\n",
    "axtest.xaxis.set_major_formatter(StrMethodFormatter('{x:,.0f}'))\n",
    "plt.title('Popular Directors\\n', fontsize = 25)\n",
    "plt.ylabel('')\n",
    "plt.xlabel('\\nAverage Vote Count', fontsize = 16)\n",
    "plt.yticks(fontsize=18)\n",
    "plt.xticks(fontsize=15)\n",
    "plt.axvline(dir_mean, color='red', ls='dotted');"
   ]
  },
  {
   "cell_type": "markdown",
   "metadata": {},
   "source": [
    "# Making Profit Graphs\n",
    "- includes data cleaning and making the graphs themselves"
   ]
  },
  {
   "cell_type": "markdown",
   "metadata": {},
   "source": [
    "## Merging and cleaning data For Profitable Directors"
   ]
  },
  {
   "cell_type": "code",
   "execution_count": 50,
   "metadata": {},
   "outputs": [
    {
     "data": {
      "text/html": [
       "<div>\n",
       "<style scoped>\n",
       "    .dataframe tbody tr th:only-of-type {\n",
       "        vertical-align: middle;\n",
       "    }\n",
       "\n",
       "    .dataframe tbody tr th {\n",
       "        vertical-align: top;\n",
       "    }\n",
       "\n",
       "    .dataframe thead th {\n",
       "        text-align: right;\n",
       "    }\n",
       "</style>\n",
       "<table border=\"1\" class=\"dataframe\">\n",
       "  <thead>\n",
       "    <tr style=\"text-align: right;\">\n",
       "      <th></th>\n",
       "      <th>primary_title</th>\n",
       "      <th>numvotes</th>\n",
       "      <th>primary_name</th>\n",
       "      <th>start_year</th>\n",
       "      <th>movie year</th>\n",
       "    </tr>\n",
       "  </thead>\n",
       "  <tbody>\n",
       "    <tr>\n",
       "      <th>0</th>\n",
       "      <td>Inception</td>\n",
       "      <td>1841066</td>\n",
       "      <td>Christopher Nolan</td>\n",
       "      <td>2010</td>\n",
       "      <td>Inception 2010</td>\n",
       "    </tr>\n",
       "    <tr>\n",
       "      <th>1</th>\n",
       "      <td>The Dark Knight Rises</td>\n",
       "      <td>1387769</td>\n",
       "      <td>Christopher Nolan</td>\n",
       "      <td>2012</td>\n",
       "      <td>The Dark Knight Rises 2012</td>\n",
       "    </tr>\n",
       "    <tr>\n",
       "      <th>2</th>\n",
       "      <td>Interstellar</td>\n",
       "      <td>1299334</td>\n",
       "      <td>Christopher Nolan</td>\n",
       "      <td>2014</td>\n",
       "      <td>Interstellar 2014</td>\n",
       "    </tr>\n",
       "    <tr>\n",
       "      <th>3</th>\n",
       "      <td>Django Unchained</td>\n",
       "      <td>1211405</td>\n",
       "      <td>Quentin Tarantino</td>\n",
       "      <td>2012</td>\n",
       "      <td>Django Unchained 2012</td>\n",
       "    </tr>\n",
       "    <tr>\n",
       "      <th>4</th>\n",
       "      <td>The Avengers</td>\n",
       "      <td>1183655</td>\n",
       "      <td>Joss Whedon</td>\n",
       "      <td>2012</td>\n",
       "      <td>The Avengers 2012</td>\n",
       "    </tr>\n",
       "  </tbody>\n",
       "</table>\n",
       "</div>"
      ],
      "text/plain": [
       "           primary_title  numvotes       primary_name  start_year  \\\n",
       "0              Inception   1841066  Christopher Nolan        2010   \n",
       "1  The Dark Knight Rises   1387769  Christopher Nolan        2012   \n",
       "2           Interstellar   1299334  Christopher Nolan        2014   \n",
       "3       Django Unchained   1211405  Quentin Tarantino        2012   \n",
       "4           The Avengers   1183655        Joss Whedon        2012   \n",
       "\n",
       "                   movie year  \n",
       "0              Inception 2010  \n",
       "1  The Dark Knight Rises 2012  \n",
       "2           Interstellar 2014  \n",
       "3       Django Unchained 2012  \n",
       "4           The Avengers 2012  "
      ]
     },
     "execution_count": 50,
     "metadata": {},
     "output_type": "execute_result"
    }
   ],
   "source": [
    "clean_dir_df.head()"
   ]
  },
  {
   "cell_type": "code",
   "execution_count": 51,
   "metadata": {},
   "outputs": [
    {
     "data": {
      "text/html": [
       "<div>\n",
       "<style scoped>\n",
       "    .dataframe tbody tr th:only-of-type {\n",
       "        vertical-align: middle;\n",
       "    }\n",
       "\n",
       "    .dataframe tbody tr th {\n",
       "        vertical-align: top;\n",
       "    }\n",
       "\n",
       "    .dataframe thead th {\n",
       "        text-align: right;\n",
       "    }\n",
       "</style>\n",
       "<table border=\"1\" class=\"dataframe\">\n",
       "  <thead>\n",
       "    <tr style=\"text-align: right;\">\n",
       "      <th></th>\n",
       "      <th>id</th>\n",
       "      <th>release_date</th>\n",
       "      <th>movie</th>\n",
       "      <th>production_budget</th>\n",
       "      <th>domestic_gross</th>\n",
       "      <th>worldwide_gross</th>\n",
       "      <th>movie year</th>\n",
       "    </tr>\n",
       "  </thead>\n",
       "  <tbody>\n",
       "    <tr>\n",
       "      <th>0</th>\n",
       "      <td>1</td>\n",
       "      <td>2009-12-18</td>\n",
       "      <td>Avatar</td>\n",
       "      <td>$425,000,000</td>\n",
       "      <td>$760,507,625</td>\n",
       "      <td>$2,776,345,279</td>\n",
       "      <td>Avatar 2009</td>\n",
       "    </tr>\n",
       "    <tr>\n",
       "      <th>1</th>\n",
       "      <td>2</td>\n",
       "      <td>2011-05-20</td>\n",
       "      <td>Pirates of the Caribbean: On Stranger Tides</td>\n",
       "      <td>$410,600,000</td>\n",
       "      <td>$241,063,875</td>\n",
       "      <td>$1,045,663,875</td>\n",
       "      <td>Pirates of the Caribbean: On Stranger Tides 2011</td>\n",
       "    </tr>\n",
       "    <tr>\n",
       "      <th>2</th>\n",
       "      <td>3</td>\n",
       "      <td>2019-06-07</td>\n",
       "      <td>Dark Phoenix</td>\n",
       "      <td>$350,000,000</td>\n",
       "      <td>$42,762,350</td>\n",
       "      <td>$149,762,350</td>\n",
       "      <td>Dark Phoenix 2019</td>\n",
       "    </tr>\n",
       "    <tr>\n",
       "      <th>3</th>\n",
       "      <td>4</td>\n",
       "      <td>2015-05-01</td>\n",
       "      <td>Avengers: Age of Ultron</td>\n",
       "      <td>$330,600,000</td>\n",
       "      <td>$459,005,868</td>\n",
       "      <td>$1,403,013,963</td>\n",
       "      <td>Avengers: Age of Ultron 2015</td>\n",
       "    </tr>\n",
       "    <tr>\n",
       "      <th>4</th>\n",
       "      <td>5</td>\n",
       "      <td>2017-12-15</td>\n",
       "      <td>Star Wars Ep. VIII: The Last Jedi</td>\n",
       "      <td>$317,000,000</td>\n",
       "      <td>$620,181,382</td>\n",
       "      <td>$1,316,721,747</td>\n",
       "      <td>Star Wars Ep. VIII: The Last Jedi 2017</td>\n",
       "    </tr>\n",
       "  </tbody>\n",
       "</table>\n",
       "</div>"
      ],
      "text/plain": [
       "   id release_date                                        movie  \\\n",
       "0   1   2009-12-18                                       Avatar   \n",
       "1   2   2011-05-20  Pirates of the Caribbean: On Stranger Tides   \n",
       "2   3   2019-06-07                                 Dark Phoenix   \n",
       "3   4   2015-05-01                      Avengers: Age of Ultron   \n",
       "4   5   2017-12-15            Star Wars Ep. VIII: The Last Jedi   \n",
       "\n",
       "  production_budget domestic_gross worldwide_gross  \\\n",
       "0      $425,000,000   $760,507,625  $2,776,345,279   \n",
       "1      $410,600,000   $241,063,875  $1,045,663,875   \n",
       "2      $350,000,000    $42,762,350    $149,762,350   \n",
       "3      $330,600,000   $459,005,868  $1,403,013,963   \n",
       "4      $317,000,000   $620,181,382  $1,316,721,747   \n",
       "\n",
       "                                         movie year  \n",
       "0                                       Avatar 2009  \n",
       "1  Pirates of the Caribbean: On Stranger Tides 2011  \n",
       "2                                 Dark Phoenix 2019  \n",
       "3                      Avengers: Age of Ultron 2015  \n",
       "4            Star Wars Ep. VIII: The Last Jedi 2017  "
      ]
     },
     "execution_count": 51,
     "metadata": {},
     "output_type": "execute_result"
    }
   ],
   "source": [
    "tn.head()"
   ]
  },
  {
   "cell_type": "code",
   "execution_count": 52,
   "metadata": {},
   "outputs": [],
   "source": [
    "tn[['production_budget', 'worldwide_gross']] = tn[['production_budget', 'worldwide_gross']].replace(r'[^.0-9]', '', regex=True).astype(float)\n"
   ]
  },
  {
   "cell_type": "code",
   "execution_count": 53,
   "metadata": {},
   "outputs": [],
   "source": [
    "tn['ww_profit'] = tn['worldwide_gross'] - tn['production_budget']"
   ]
  },
  {
   "cell_type": "code",
   "execution_count": 54,
   "metadata": {},
   "outputs": [],
   "source": [
    "tn_rel = tn[['movie', 'ww_profit', 'movie year']]"
   ]
  },
  {
   "cell_type": "code",
   "execution_count": 55,
   "metadata": {},
   "outputs": [
    {
     "data": {
      "text/plain": [
       "(5781, 3)"
      ]
     },
     "execution_count": 55,
     "metadata": {},
     "output_type": "execute_result"
    }
   ],
   "source": [
    "tn_rel.shape"
   ]
  },
  {
   "cell_type": "code",
   "execution_count": 56,
   "metadata": {},
   "outputs": [],
   "source": [
    "profit_dir = clean_dir_df.merge(tn_rel, on='movie year').sort_values(by='ww_profit', ascending=False).drop_duplicates(subset=['movie year'], keep='first')\n"
   ]
  },
  {
   "cell_type": "code",
   "execution_count": 57,
   "metadata": {},
   "outputs": [
    {
     "data": {
      "text/html": [
       "<div>\n",
       "<style scoped>\n",
       "    .dataframe tbody tr th:only-of-type {\n",
       "        vertical-align: middle;\n",
       "    }\n",
       "\n",
       "    .dataframe tbody tr th {\n",
       "        vertical-align: top;\n",
       "    }\n",
       "\n",
       "    .dataframe thead th {\n",
       "        text-align: right;\n",
       "    }\n",
       "</style>\n",
       "<table border=\"1\" class=\"dataframe\">\n",
       "  <thead>\n",
       "    <tr style=\"text-align: right;\">\n",
       "      <th></th>\n",
       "      <th>primary_title</th>\n",
       "      <th>numvotes</th>\n",
       "      <th>primary_name</th>\n",
       "      <th>start_year</th>\n",
       "      <th>movie year</th>\n",
       "      <th>movie</th>\n",
       "      <th>ww_profit</th>\n",
       "    </tr>\n",
       "  </thead>\n",
       "  <tbody>\n",
       "    <tr>\n",
       "      <th>18</th>\n",
       "      <td>Avengers: Infinity War</td>\n",
       "      <td>670926</td>\n",
       "      <td>Joe Russo</td>\n",
       "      <td>2018</td>\n",
       "      <td>Avengers: Infinity War 2018</td>\n",
       "      <td>Avengers: Infinity War</td>\n",
       "      <td>1748134200.00000</td>\n",
       "    </tr>\n",
       "    <tr>\n",
       "      <th>45</th>\n",
       "      <td>Jurassic World</td>\n",
       "      <td>539338</td>\n",
       "      <td>Colin Trevorrow</td>\n",
       "      <td>2015</td>\n",
       "      <td>Jurassic World 2015</td>\n",
       "      <td>Jurassic World</td>\n",
       "      <td>1433854864.00000</td>\n",
       "    </tr>\n",
       "    <tr>\n",
       "      <th>130</th>\n",
       "      <td>Furious 7</td>\n",
       "      <td>335074</td>\n",
       "      <td>James Wan</td>\n",
       "      <td>2015</td>\n",
       "      <td>Furious 7 2015</td>\n",
       "      <td>Furious 7</td>\n",
       "      <td>1328722794.00000</td>\n",
       "    </tr>\n",
       "    <tr>\n",
       "      <th>4</th>\n",
       "      <td>The Avengers</td>\n",
       "      <td>1183655</td>\n",
       "      <td>Joss Whedon</td>\n",
       "      <td>2012</td>\n",
       "      <td>The Avengers 2012</td>\n",
       "      <td>The Avengers</td>\n",
       "      <td>1292935897.00000</td>\n",
       "    </tr>\n",
       "    <tr>\n",
       "      <th>57</th>\n",
       "      <td>Black Panther</td>\n",
       "      <td>516148</td>\n",
       "      <td>Ryan Coogler</td>\n",
       "      <td>2018</td>\n",
       "      <td>Black Panther 2018</td>\n",
       "      <td>Black Panther</td>\n",
       "      <td>1148258224.00000</td>\n",
       "    </tr>\n",
       "  </tbody>\n",
       "</table>\n",
       "</div>"
      ],
      "text/plain": [
       "              primary_title  numvotes     primary_name  start_year  \\\n",
       "18   Avengers: Infinity War    670926        Joe Russo        2018   \n",
       "45           Jurassic World    539338  Colin Trevorrow        2015   \n",
       "130               Furious 7    335074        James Wan        2015   \n",
       "4              The Avengers   1183655      Joss Whedon        2012   \n",
       "57            Black Panther    516148     Ryan Coogler        2018   \n",
       "\n",
       "                      movie year                   movie        ww_profit  \n",
       "18   Avengers: Infinity War 2018  Avengers: Infinity War 1748134200.00000  \n",
       "45           Jurassic World 2015          Jurassic World 1433854864.00000  \n",
       "130               Furious 7 2015               Furious 7 1328722794.00000  \n",
       "4              The Avengers 2012            The Avengers 1292935897.00000  \n",
       "57            Black Panther 2018           Black Panther 1148258224.00000  "
      ]
     },
     "execution_count": 57,
     "metadata": {},
     "output_type": "execute_result"
    }
   ],
   "source": [
    "profit_dir.head()"
   ]
  },
  {
   "cell_type": "code",
   "execution_count": 58,
   "metadata": {},
   "outputs": [],
   "source": [
    "money_dir = profit_dir.groupby('primary_name')['ww_profit'].mean().sort_values()[::-1]"
   ]
  },
  {
   "cell_type": "code",
   "execution_count": 59,
   "metadata": {
    "scrolled": false
   },
   "outputs": [
    {
     "data": {
      "image/png": "[encoded data removed]",
      "text/plain": [
       "<Figure size 1080x576 with 1 Axes>"
      ]
     },
     "metadata": {},
     "output_type": "display_data"
    }
   ],
   "source": [
    "plt.figure(figsize=(15,8))\n",
    "sns.set_style('whitegrid')\n",
    "\n",
    "money_mean = money_dir.values[:10].mean()\n",
    "\n",
    "colur = np.where(money_dir.values[:10] > money_mean, '#10DFBC', '#E2522F')\n",
    "\n",
    "axdir = sns.barplot(y=money_dir.index[:10], \n",
    "                      x=money_dir.values[:10], \n",
    "                      orient='h', \n",
    "                      palette=colur)\n",
    "axdir.xaxis.set_major_formatter(StrMethodFormatter('${x:,.0f}'))\n",
    "plt.title('Profitable Directors\\n', fontsize = 25)\n",
    "plt.ylabel('')\n",
    "plt.xlabel('\\nAverage Profit', fontsize = 16)\n",
    "plt.yticks(fontsize=18)\n",
    "plt.xticks(fontsize=15)\n",
    "plt.axvline(money_mean, color='red', ls='dotted')\n",
    "plt.savefig('photos/proDir.png');"
   ]
  },
  {
   "cell_type": "markdown",
   "metadata": {},
   "source": [
    "# Studio and Genre Profitability"
   ]
  },
  {
   "cell_type": "markdown",
   "metadata": {},
   "source": [
    "Import Dataframe file"
   ]
  },
  {
   "cell_type": "code",
   "execution_count": 60,
   "metadata": {},
   "outputs": [],
   "source": [
    "imdb_df = pd.read_csv('https://raw.githubusercontent.com/vimixy/Movie-Analysis-Project/main/imdbCSV.csv')"
   ]
  },
  {
   "cell_type": "markdown",
   "metadata": {},
   "source": [
    "### Clean Data"
   ]
  },
  {
   "cell_type": "markdown",
   "metadata": {},
   "source": [
    "Drop columns irrelevant to the focus of our data inspection. We want to find information on what makes a movie successful, in this section, specifically production studios and genre."
   ]
  },
  {
   "cell_type": "code",
   "execution_count": 61,
   "metadata": {},
   "outputs": [],
   "source": [
    "imdb_df_new = imdb_df.drop(columns = ['Unnamed: 0', 'primary_title', 'movie_id.1', 'movie_id.2', 'person_id.1', 'birth_year', 'death_year', 'primary_profession'])"
   ]
  },
  {
   "cell_type": "code",
   "execution_count": 62,
   "metadata": {},
   "outputs": [
    {
     "data": {
      "text/html": [
       "<div>\n",
       "<style scoped>\n",
       "    .dataframe tbody tr th:only-of-type {\n",
       "        vertical-align: middle;\n",
       "    }\n",
       "\n",
       "    .dataframe tbody tr th {\n",
       "        vertical-align: top;\n",
       "    }\n",
       "\n",
       "    .dataframe thead th {\n",
       "        text-align: right;\n",
       "    }\n",
       "</style>\n",
       "<table border=\"1\" class=\"dataframe\">\n",
       "  <thead>\n",
       "    <tr style=\"text-align: right;\">\n",
       "      <th></th>\n",
       "      <th>movie_id</th>\n",
       "      <th>original_title</th>\n",
       "      <th>start_year</th>\n",
       "      <th>runtime_minutes</th>\n",
       "      <th>genres</th>\n",
       "      <th>averagerating</th>\n",
       "      <th>numvotes</th>\n",
       "      <th>person_id</th>\n",
       "      <th>primary_name</th>\n",
       "    </tr>\n",
       "  </thead>\n",
       "  <tbody>\n",
       "    <tr>\n",
       "      <th>0</th>\n",
       "      <td>tt1375666</td>\n",
       "      <td>Inception</td>\n",
       "      <td>2010</td>\n",
       "      <td>148.00000</td>\n",
       "      <td>Action,Adventure,Sci-Fi</td>\n",
       "      <td>8.80000</td>\n",
       "      <td>1841066</td>\n",
       "      <td>nm0634240</td>\n",
       "      <td>Christopher Nolan</td>\n",
       "    </tr>\n",
       "    <tr>\n",
       "      <th>1</th>\n",
       "      <td>tt1345836</td>\n",
       "      <td>The Dark Knight Rises</td>\n",
       "      <td>2012</td>\n",
       "      <td>164.00000</td>\n",
       "      <td>Action,Thriller</td>\n",
       "      <td>8.40000</td>\n",
       "      <td>1387769</td>\n",
       "      <td>nm0634240</td>\n",
       "      <td>Christopher Nolan</td>\n",
       "    </tr>\n",
       "    <tr>\n",
       "      <th>2</th>\n",
       "      <td>tt0816692</td>\n",
       "      <td>Interstellar</td>\n",
       "      <td>2014</td>\n",
       "      <td>169.00000</td>\n",
       "      <td>Adventure,Drama,Sci-Fi</td>\n",
       "      <td>8.60000</td>\n",
       "      <td>1299334</td>\n",
       "      <td>nm0634240</td>\n",
       "      <td>Christopher Nolan</td>\n",
       "    </tr>\n",
       "    <tr>\n",
       "      <th>3</th>\n",
       "      <td>tt1853728</td>\n",
       "      <td>Django Unchained</td>\n",
       "      <td>2012</td>\n",
       "      <td>165.00000</td>\n",
       "      <td>Drama,Western</td>\n",
       "      <td>8.40000</td>\n",
       "      <td>1211405</td>\n",
       "      <td>nm0000233</td>\n",
       "      <td>Quentin Tarantino</td>\n",
       "    </tr>\n",
       "    <tr>\n",
       "      <th>4</th>\n",
       "      <td>tt0848228</td>\n",
       "      <td>The Avengers</td>\n",
       "      <td>2012</td>\n",
       "      <td>143.00000</td>\n",
       "      <td>Action,Adventure,Sci-Fi</td>\n",
       "      <td>8.10000</td>\n",
       "      <td>1183655</td>\n",
       "      <td>nm0923736</td>\n",
       "      <td>Joss Whedon</td>\n",
       "    </tr>\n",
       "  </tbody>\n",
       "</table>\n",
       "</div>"
      ],
      "text/plain": [
       "    movie_id         original_title  start_year  runtime_minutes  \\\n",
       "0  tt1375666              Inception        2010        148.00000   \n",
       "1  tt1345836  The Dark Knight Rises        2012        164.00000   \n",
       "2  tt0816692           Interstellar        2014        169.00000   \n",
       "3  tt1853728       Django Unchained        2012        165.00000   \n",
       "4  tt0848228           The Avengers        2012        143.00000   \n",
       "\n",
       "                    genres  averagerating  numvotes  person_id  \\\n",
       "0  Action,Adventure,Sci-Fi        8.80000   1841066  nm0634240   \n",
       "1          Action,Thriller        8.40000   1387769  nm0634240   \n",
       "2   Adventure,Drama,Sci-Fi        8.60000   1299334  nm0634240   \n",
       "3            Drama,Western        8.40000   1211405  nm0000233   \n",
       "4  Action,Adventure,Sci-Fi        8.10000   1183655  nm0923736   \n",
       "\n",
       "        primary_name  \n",
       "0  Christopher Nolan  \n",
       "1  Christopher Nolan  \n",
       "2  Christopher Nolan  \n",
       "3  Quentin Tarantino  \n",
       "4        Joss Whedon  "
      ]
     },
     "execution_count": 62,
     "metadata": {},
     "output_type": "execute_result"
    }
   ],
   "source": [
    "imdb_df_new.head()"
   ]
  },
  {
   "cell_type": "code",
   "execution_count": 63,
   "metadata": {},
   "outputs": [
    {
     "data": {
      "text/html": [
       "<div>\n",
       "<style scoped>\n",
       "    .dataframe tbody tr th:only-of-type {\n",
       "        vertical-align: middle;\n",
       "    }\n",
       "\n",
       "    .dataframe tbody tr th {\n",
       "        vertical-align: top;\n",
       "    }\n",
       "\n",
       "    .dataframe thead th {\n",
       "        text-align: right;\n",
       "    }\n",
       "</style>\n",
       "<table border=\"1\" class=\"dataframe\">\n",
       "  <thead>\n",
       "    <tr style=\"text-align: right;\">\n",
       "      <th></th>\n",
       "      <th>Unnamed: 0</th>\n",
       "      <th>title</th>\n",
       "      <th>studio</th>\n",
       "      <th>domestic_gross_x</th>\n",
       "      <th>foreign_gross</th>\n",
       "      <th>year</th>\n",
       "      <th>Unnamed: 0.1</th>\n",
       "      <th>genre_ids</th>\n",
       "      <th>id_x</th>\n",
       "      <th>original_language</th>\n",
       "      <th>...</th>\n",
       "      <th>popularity</th>\n",
       "      <th>release_date_x</th>\n",
       "      <th>vote_average</th>\n",
       "      <th>vote_count</th>\n",
       "      <th>id_y</th>\n",
       "      <th>release_date_y</th>\n",
       "      <th>movie</th>\n",
       "      <th>production_budget</th>\n",
       "      <th>domestic_gross_y</th>\n",
       "      <th>worldwide_gross</th>\n",
       "    </tr>\n",
       "  </thead>\n",
       "  <tbody>\n",
       "    <tr>\n",
       "      <th>0</th>\n",
       "      <td>0</td>\n",
       "      <td>Toy Story 3</td>\n",
       "      <td>BV</td>\n",
       "      <td>415000000.00000</td>\n",
       "      <td>652000000</td>\n",
       "      <td>2010</td>\n",
       "      <td>7</td>\n",
       "      <td>[16, 10751, 35]</td>\n",
       "      <td>10193</td>\n",
       "      <td>en</td>\n",
       "      <td>...</td>\n",
       "      <td>24.44500</td>\n",
       "      <td>2010-06-17</td>\n",
       "      <td>7.70000</td>\n",
       "      <td>8340</td>\n",
       "      <td>47</td>\n",
       "      <td>Jun 18, 2010</td>\n",
       "      <td>Toy Story 3</td>\n",
       "      <td>$200,000,000</td>\n",
       "      <td>$415,004,880</td>\n",
       "      <td>$1,068,879,522</td>\n",
       "    </tr>\n",
       "    <tr>\n",
       "      <th>1</th>\n",
       "      <td>1</td>\n",
       "      <td>Inception</td>\n",
       "      <td>WB</td>\n",
       "      <td>292600000.00000</td>\n",
       "      <td>535700000</td>\n",
       "      <td>2010</td>\n",
       "      <td>4</td>\n",
       "      <td>[28, 878, 12]</td>\n",
       "      <td>27205</td>\n",
       "      <td>en</td>\n",
       "      <td>...</td>\n",
       "      <td>27.92000</td>\n",
       "      <td>2010-07-16</td>\n",
       "      <td>8.30000</td>\n",
       "      <td>22186</td>\n",
       "      <td>38</td>\n",
       "      <td>Jul 16, 2010</td>\n",
       "      <td>Inception</td>\n",
       "      <td>$160,000,000</td>\n",
       "      <td>$292,576,195</td>\n",
       "      <td>$835,524,642</td>\n",
       "    </tr>\n",
       "    <tr>\n",
       "      <th>2</th>\n",
       "      <td>2</td>\n",
       "      <td>Shrek Forever After</td>\n",
       "      <td>P/DW</td>\n",
       "      <td>238700000.00000</td>\n",
       "      <td>513900000</td>\n",
       "      <td>2010</td>\n",
       "      <td>38</td>\n",
       "      <td>[35, 12, 14, 16, 10751]</td>\n",
       "      <td>10192</td>\n",
       "      <td>en</td>\n",
       "      <td>...</td>\n",
       "      <td>15.04100</td>\n",
       "      <td>2010-05-16</td>\n",
       "      <td>6.10000</td>\n",
       "      <td>3843</td>\n",
       "      <td>27</td>\n",
       "      <td>May 21, 2010</td>\n",
       "      <td>Shrek Forever After</td>\n",
       "      <td>$165,000,000</td>\n",
       "      <td>$238,736,787</td>\n",
       "      <td>$756,244,673</td>\n",
       "    </tr>\n",
       "    <tr>\n",
       "      <th>3</th>\n",
       "      <td>3</td>\n",
       "      <td>The Twilight Saga: Eclipse</td>\n",
       "      <td>Sum.</td>\n",
       "      <td>300500000.00000</td>\n",
       "      <td>398000000</td>\n",
       "      <td>2010</td>\n",
       "      <td>15</td>\n",
       "      <td>[12, 14, 18, 10749]</td>\n",
       "      <td>24021</td>\n",
       "      <td>en</td>\n",
       "      <td>...</td>\n",
       "      <td>20.34000</td>\n",
       "      <td>2010-06-23</td>\n",
       "      <td>6.00000</td>\n",
       "      <td>4909</td>\n",
       "      <td>53</td>\n",
       "      <td>Jun 30, 2010</td>\n",
       "      <td>The Twilight Saga: Eclipse</td>\n",
       "      <td>$68,000,000</td>\n",
       "      <td>$300,531,751</td>\n",
       "      <td>$706,102,828</td>\n",
       "    </tr>\n",
       "    <tr>\n",
       "      <th>4</th>\n",
       "      <td>4</td>\n",
       "      <td>Iron Man 2</td>\n",
       "      <td>Par.</td>\n",
       "      <td>312400000.00000</td>\n",
       "      <td>311500000</td>\n",
       "      <td>2010</td>\n",
       "      <td>2</td>\n",
       "      <td>[12, 28, 878]</td>\n",
       "      <td>10138</td>\n",
       "      <td>en</td>\n",
       "      <td>...</td>\n",
       "      <td>28.51500</td>\n",
       "      <td>2010-05-07</td>\n",
       "      <td>6.80000</td>\n",
       "      <td>12368</td>\n",
       "      <td>15</td>\n",
       "      <td>May 7, 2010</td>\n",
       "      <td>Iron Man 2</td>\n",
       "      <td>$170,000,000</td>\n",
       "      <td>$312,433,331</td>\n",
       "      <td>$621,156,389</td>\n",
       "    </tr>\n",
       "  </tbody>\n",
       "</table>\n",
       "<p>5 rows × 21 columns</p>\n",
       "</div>"
      ],
      "text/plain": [
       "   Unnamed: 0                       title studio  domestic_gross_x  \\\n",
       "0           0                 Toy Story 3     BV   415000000.00000   \n",
       "1           1                   Inception     WB   292600000.00000   \n",
       "2           2         Shrek Forever After   P/DW   238700000.00000   \n",
       "3           3  The Twilight Saga: Eclipse   Sum.   300500000.00000   \n",
       "4           4                  Iron Man 2   Par.   312400000.00000   \n",
       "\n",
       "  foreign_gross  year  Unnamed: 0.1                genre_ids   id_x  \\\n",
       "0     652000000  2010             7          [16, 10751, 35]  10193   \n",
       "1     535700000  2010             4            [28, 878, 12]  27205   \n",
       "2     513900000  2010            38  [35, 12, 14, 16, 10751]  10192   \n",
       "3     398000000  2010            15      [12, 14, 18, 10749]  24021   \n",
       "4     311500000  2010             2            [12, 28, 878]  10138   \n",
       "\n",
       "  original_language  ... popularity  release_date_x vote_average  vote_count  \\\n",
       "0                en  ...   24.44500      2010-06-17      7.70000        8340   \n",
       "1                en  ...   27.92000      2010-07-16      8.30000       22186   \n",
       "2                en  ...   15.04100      2010-05-16      6.10000        3843   \n",
       "3                en  ...   20.34000      2010-06-23      6.00000        4909   \n",
       "4                en  ...   28.51500      2010-05-07      6.80000       12368   \n",
       "\n",
       "   id_y  release_date_y                       movie production_budget  \\\n",
       "0    47    Jun 18, 2010                 Toy Story 3      $200,000,000   \n",
       "1    38    Jul 16, 2010                   Inception      $160,000,000   \n",
       "2    27    May 21, 2010         Shrek Forever After      $165,000,000   \n",
       "3    53    Jun 30, 2010  The Twilight Saga: Eclipse       $68,000,000   \n",
       "4    15     May 7, 2010                  Iron Man 2      $170,000,000   \n",
       "\n",
       "  domestic_gross_y worldwide_gross  \n",
       "0     $415,004,880  $1,068,879,522  \n",
       "1     $292,576,195    $835,524,642  \n",
       "2     $238,736,787    $756,244,673  \n",
       "3     $300,531,751    $706,102,828  \n",
       "4     $312,433,331    $621,156,389  \n",
       "\n",
       "[5 rows x 21 columns]"
      ]
     },
     "execution_count": 63,
     "metadata": {},
     "output_type": "execute_result"
    }
   ],
   "source": [
    "movies_df = pd.read_csv('https://raw.githubusercontent.com/vimixy/Movie-Analysis-Project/main/movie_info')\n",
    "movies_df.head()"
   ]
  },
  {
   "cell_type": "markdown",
   "metadata": {},
   "source": [
    "We want to manipulate the columns refering to money in order to understand profitablity. To do this, we must make the values in these columns floats."
   ]
  },
  {
   "cell_type": "code",
   "execution_count": 64,
   "metadata": {},
   "outputs": [],
   "source": [
    "movies_df[['production_budget', 'domestic_gross_y', 'worldwide_gross']] = movies_df[['production_budget', 'domestic_gross_y', 'worldwide_gross']].replace(r'[^.0-9]', '', regex = True).astype(float)"
   ]
  },
  {
   "cell_type": "markdown",
   "metadata": {},
   "source": [
    "In order to understand how much profit each new movie generated, we subtract production budget from the worldwide gross to create a true profit column. Then we cleaned data further to isolate desired columns."
   ]
  },
  {
   "cell_type": "code",
   "execution_count": 65,
   "metadata": {},
   "outputs": [],
   "source": [
    "movies_df['Profit'] = movies_df['worldwide_gross'] - movies_df['production_budget']"
   ]
  },
  {
   "cell_type": "code",
   "execution_count": 66,
   "metadata": {},
   "outputs": [
    {
     "data": {
      "text/html": [
       "<div>\n",
       "<style scoped>\n",
       "    .dataframe tbody tr th:only-of-type {\n",
       "        vertical-align: middle;\n",
       "    }\n",
       "\n",
       "    .dataframe tbody tr th {\n",
       "        vertical-align: top;\n",
       "    }\n",
       "\n",
       "    .dataframe thead th {\n",
       "        text-align: right;\n",
       "    }\n",
       "</style>\n",
       "<table border=\"1\" class=\"dataframe\">\n",
       "  <thead>\n",
       "    <tr style=\"text-align: right;\">\n",
       "      <th></th>\n",
       "      <th>studio</th>\n",
       "      <th>year</th>\n",
       "      <th>original_title</th>\n",
       "      <th>popularity</th>\n",
       "      <th>vote_average</th>\n",
       "      <th>vote_count</th>\n",
       "      <th>production_budget</th>\n",
       "      <th>domestic_gross_y</th>\n",
       "      <th>worldwide_gross</th>\n",
       "      <th>Profit</th>\n",
       "    </tr>\n",
       "  </thead>\n",
       "  <tbody>\n",
       "    <tr>\n",
       "      <th>0</th>\n",
       "      <td>BV</td>\n",
       "      <td>2010</td>\n",
       "      <td>Toy Story 3</td>\n",
       "      <td>24.44500</td>\n",
       "      <td>7.70000</td>\n",
       "      <td>8340</td>\n",
       "      <td>200000000.00000</td>\n",
       "      <td>415004880.00000</td>\n",
       "      <td>1068879522.00000</td>\n",
       "      <td>868879522.00000</td>\n",
       "    </tr>\n",
       "    <tr>\n",
       "      <th>1</th>\n",
       "      <td>WB</td>\n",
       "      <td>2010</td>\n",
       "      <td>Inception</td>\n",
       "      <td>27.92000</td>\n",
       "      <td>8.30000</td>\n",
       "      <td>22186</td>\n",
       "      <td>160000000.00000</td>\n",
       "      <td>292576195.00000</td>\n",
       "      <td>835524642.00000</td>\n",
       "      <td>675524642.00000</td>\n",
       "    </tr>\n",
       "    <tr>\n",
       "      <th>2</th>\n",
       "      <td>P/DW</td>\n",
       "      <td>2010</td>\n",
       "      <td>Shrek Forever After</td>\n",
       "      <td>15.04100</td>\n",
       "      <td>6.10000</td>\n",
       "      <td>3843</td>\n",
       "      <td>165000000.00000</td>\n",
       "      <td>238736787.00000</td>\n",
       "      <td>756244673.00000</td>\n",
       "      <td>591244673.00000</td>\n",
       "    </tr>\n",
       "    <tr>\n",
       "      <th>3</th>\n",
       "      <td>Sum.</td>\n",
       "      <td>2010</td>\n",
       "      <td>The Twilight Saga: Eclipse</td>\n",
       "      <td>20.34000</td>\n",
       "      <td>6.00000</td>\n",
       "      <td>4909</td>\n",
       "      <td>68000000.00000</td>\n",
       "      <td>300531751.00000</td>\n",
       "      <td>706102828.00000</td>\n",
       "      <td>638102828.00000</td>\n",
       "    </tr>\n",
       "    <tr>\n",
       "      <th>4</th>\n",
       "      <td>Par.</td>\n",
       "      <td>2010</td>\n",
       "      <td>Iron Man 2</td>\n",
       "      <td>28.51500</td>\n",
       "      <td>6.80000</td>\n",
       "      <td>12368</td>\n",
       "      <td>170000000.00000</td>\n",
       "      <td>312433331.00000</td>\n",
       "      <td>621156389.00000</td>\n",
       "      <td>451156389.00000</td>\n",
       "    </tr>\n",
       "  </tbody>\n",
       "</table>\n",
       "</div>"
      ],
      "text/plain": [
       "  studio  year              original_title  popularity  vote_average  \\\n",
       "0     BV  2010                 Toy Story 3    24.44500       7.70000   \n",
       "1     WB  2010                   Inception    27.92000       8.30000   \n",
       "2   P/DW  2010         Shrek Forever After    15.04100       6.10000   \n",
       "3   Sum.  2010  The Twilight Saga: Eclipse    20.34000       6.00000   \n",
       "4   Par.  2010                  Iron Man 2    28.51500       6.80000   \n",
       "\n",
       "   vote_count  production_budget  domestic_gross_y  worldwide_gross  \\\n",
       "0        8340    200000000.00000   415004880.00000 1068879522.00000   \n",
       "1       22186    160000000.00000   292576195.00000  835524642.00000   \n",
       "2        3843    165000000.00000   238736787.00000  756244673.00000   \n",
       "3        4909     68000000.00000   300531751.00000  706102828.00000   \n",
       "4       12368    170000000.00000   312433331.00000  621156389.00000   \n",
       "\n",
       "           Profit  \n",
       "0 868879522.00000  \n",
       "1 675524642.00000  \n",
       "2 591244673.00000  \n",
       "3 638102828.00000  \n",
       "4 451156389.00000  "
      ]
     },
     "execution_count": 66,
     "metadata": {},
     "output_type": "execute_result"
    }
   ],
   "source": [
    "working_df = movies_df[['studio', 'year', 'original_title', 'popularity', 'vote_average', 'vote_count', 'production_budget', 'domestic_gross_y', 'worldwide_gross', 'Profit']]\n",
    "\n",
    "working_df.head()"
   ]
  },
  {
   "cell_type": "markdown",
   "metadata": {},
   "source": [
    "### Merge"
   ]
  },
  {
   "cell_type": "markdown",
   "metadata": {},
   "source": [
    "We merge the dataframes in order to create a table including desired information, then clean to include genre and profit."
   ]
  },
  {
   "cell_type": "code",
   "execution_count": 67,
   "metadata": {},
   "outputs": [],
   "source": [
    "working_df_test = working_df.merge(imdb_df_new, left_on = 'original_title', right_on = 'original_title')"
   ]
  },
  {
   "cell_type": "code",
   "execution_count": 68,
   "metadata": {},
   "outputs": [
    {
     "data": {
      "text/html": [
       "<div>\n",
       "<style scoped>\n",
       "    .dataframe tbody tr th:only-of-type {\n",
       "        vertical-align: middle;\n",
       "    }\n",
       "\n",
       "    .dataframe tbody tr th {\n",
       "        vertical-align: top;\n",
       "    }\n",
       "\n",
       "    .dataframe thead th {\n",
       "        text-align: right;\n",
       "    }\n",
       "</style>\n",
       "<table border=\"1\" class=\"dataframe\">\n",
       "  <thead>\n",
       "    <tr style=\"text-align: right;\">\n",
       "      <th></th>\n",
       "      <th>studio</th>\n",
       "      <th>year</th>\n",
       "      <th>original_title</th>\n",
       "      <th>popularity</th>\n",
       "      <th>production_budget</th>\n",
       "      <th>domestic_gross_y</th>\n",
       "      <th>worldwide_gross</th>\n",
       "      <th>Profit</th>\n",
       "      <th>movie_id</th>\n",
       "      <th>runtime_minutes</th>\n",
       "      <th>genres</th>\n",
       "      <th>averagerating</th>\n",
       "      <th>numvotes</th>\n",
       "      <th>primary_name</th>\n",
       "    </tr>\n",
       "  </thead>\n",
       "  <tbody>\n",
       "    <tr>\n",
       "      <th>0</th>\n",
       "      <td>BV</td>\n",
       "      <td>2010</td>\n",
       "      <td>Toy Story 3</td>\n",
       "      <td>24.44500</td>\n",
       "      <td>200000000.00000</td>\n",
       "      <td>415004880.00000</td>\n",
       "      <td>1068879522.00000</td>\n",
       "      <td>868879522.00000</td>\n",
       "      <td>tt0435761</td>\n",
       "      <td>103.00000</td>\n",
       "      <td>Adventure,Animation,Comedy</td>\n",
       "      <td>8.30000</td>\n",
       "      <td>682218</td>\n",
       "      <td>Lee Unkrich</td>\n",
       "    </tr>\n",
       "    <tr>\n",
       "      <th>1</th>\n",
       "      <td>WB</td>\n",
       "      <td>2010</td>\n",
       "      <td>Inception</td>\n",
       "      <td>27.92000</td>\n",
       "      <td>160000000.00000</td>\n",
       "      <td>292576195.00000</td>\n",
       "      <td>835524642.00000</td>\n",
       "      <td>675524642.00000</td>\n",
       "      <td>tt1375666</td>\n",
       "      <td>148.00000</td>\n",
       "      <td>Action,Adventure,Sci-Fi</td>\n",
       "      <td>8.80000</td>\n",
       "      <td>1841066</td>\n",
       "      <td>Christopher Nolan</td>\n",
       "    </tr>\n",
       "    <tr>\n",
       "      <th>2</th>\n",
       "      <td>P/DW</td>\n",
       "      <td>2010</td>\n",
       "      <td>Shrek Forever After</td>\n",
       "      <td>15.04100</td>\n",
       "      <td>165000000.00000</td>\n",
       "      <td>238736787.00000</td>\n",
       "      <td>756244673.00000</td>\n",
       "      <td>591244673.00000</td>\n",
       "      <td>tt0892791</td>\n",
       "      <td>93.00000</td>\n",
       "      <td>Adventure,Animation,Comedy</td>\n",
       "      <td>6.30000</td>\n",
       "      <td>167532</td>\n",
       "      <td>Mike Mitchell</td>\n",
       "    </tr>\n",
       "    <tr>\n",
       "      <th>3</th>\n",
       "      <td>Sum.</td>\n",
       "      <td>2010</td>\n",
       "      <td>The Twilight Saga: Eclipse</td>\n",
       "      <td>20.34000</td>\n",
       "      <td>68000000.00000</td>\n",
       "      <td>300531751.00000</td>\n",
       "      <td>706102828.00000</td>\n",
       "      <td>638102828.00000</td>\n",
       "      <td>tt1325004</td>\n",
       "      <td>124.00000</td>\n",
       "      <td>Adventure,Drama,Fantasy</td>\n",
       "      <td>5.00000</td>\n",
       "      <td>211733</td>\n",
       "      <td>David Slade</td>\n",
       "    </tr>\n",
       "    <tr>\n",
       "      <th>4</th>\n",
       "      <td>Par.</td>\n",
       "      <td>2010</td>\n",
       "      <td>Iron Man 2</td>\n",
       "      <td>28.51500</td>\n",
       "      <td>170000000.00000</td>\n",
       "      <td>312433331.00000</td>\n",
       "      <td>621156389.00000</td>\n",
       "      <td>451156389.00000</td>\n",
       "      <td>tt1228705</td>\n",
       "      <td>124.00000</td>\n",
       "      <td>Action,Adventure,Sci-Fi</td>\n",
       "      <td>7.00000</td>\n",
       "      <td>657690</td>\n",
       "      <td>Jon Favreau</td>\n",
       "    </tr>\n",
       "  </tbody>\n",
       "</table>\n",
       "</div>"
      ],
      "text/plain": [
       "  studio  year              original_title  popularity  production_budget  \\\n",
       "0     BV  2010                 Toy Story 3    24.44500    200000000.00000   \n",
       "1     WB  2010                   Inception    27.92000    160000000.00000   \n",
       "2   P/DW  2010         Shrek Forever After    15.04100    165000000.00000   \n",
       "3   Sum.  2010  The Twilight Saga: Eclipse    20.34000     68000000.00000   \n",
       "4   Par.  2010                  Iron Man 2    28.51500    170000000.00000   \n",
       "\n",
       "   domestic_gross_y  worldwide_gross          Profit   movie_id  \\\n",
       "0   415004880.00000 1068879522.00000 868879522.00000  tt0435761   \n",
       "1   292576195.00000  835524642.00000 675524642.00000  tt1375666   \n",
       "2   238736787.00000  756244673.00000 591244673.00000  tt0892791   \n",
       "3   300531751.00000  706102828.00000 638102828.00000  tt1325004   \n",
       "4   312433331.00000  621156389.00000 451156389.00000  tt1228705   \n",
       "\n",
       "   runtime_minutes                      genres  averagerating  numvotes  \\\n",
       "0        103.00000  Adventure,Animation,Comedy        8.30000    682218   \n",
       "1        148.00000     Action,Adventure,Sci-Fi        8.80000   1841066   \n",
       "2         93.00000  Adventure,Animation,Comedy        6.30000    167532   \n",
       "3        124.00000     Adventure,Drama,Fantasy        5.00000    211733   \n",
       "4        124.00000     Action,Adventure,Sci-Fi        7.00000    657690   \n",
       "\n",
       "        primary_name  \n",
       "0        Lee Unkrich  \n",
       "1  Christopher Nolan  \n",
       "2      Mike Mitchell  \n",
       "3        David Slade  \n",
       "4        Jon Favreau  "
      ]
     },
     "execution_count": 68,
     "metadata": {},
     "output_type": "execute_result"
    }
   ],
   "source": [
    "films_df = working_df_test.drop(columns = ['vote_average', 'vote_count', 'start_year', 'person_id'])\n",
    "films_df.head()"
   ]
  },
  {
   "cell_type": "code",
   "execution_count": 69,
   "metadata": {},
   "outputs": [
    {
     "data": {
      "text/html": [
       "<div>\n",
       "<style scoped>\n",
       "    .dataframe tbody tr th:only-of-type {\n",
       "        vertical-align: middle;\n",
       "    }\n",
       "\n",
       "    .dataframe tbody tr th {\n",
       "        vertical-align: top;\n",
       "    }\n",
       "\n",
       "    .dataframe thead th {\n",
       "        text-align: right;\n",
       "    }\n",
       "</style>\n",
       "<table border=\"1\" class=\"dataframe\">\n",
       "  <thead>\n",
       "    <tr style=\"text-align: right;\">\n",
       "      <th></th>\n",
       "      <th>original_title</th>\n",
       "      <th>Profit</th>\n",
       "      <th>genres</th>\n",
       "    </tr>\n",
       "  </thead>\n",
       "  <tbody>\n",
       "    <tr>\n",
       "      <th>0</th>\n",
       "      <td>Toy Story 3</td>\n",
       "      <td>868879522.00000</td>\n",
       "      <td>Adventure,Animation,Comedy</td>\n",
       "    </tr>\n",
       "    <tr>\n",
       "      <th>1</th>\n",
       "      <td>Inception</td>\n",
       "      <td>675524642.00000</td>\n",
       "      <td>Action,Adventure,Sci-Fi</td>\n",
       "    </tr>\n",
       "    <tr>\n",
       "      <th>2</th>\n",
       "      <td>Shrek Forever After</td>\n",
       "      <td>591244673.00000</td>\n",
       "      <td>Adventure,Animation,Comedy</td>\n",
       "    </tr>\n",
       "    <tr>\n",
       "      <th>3</th>\n",
       "      <td>The Twilight Saga: Eclipse</td>\n",
       "      <td>638102828.00000</td>\n",
       "      <td>Adventure,Drama,Fantasy</td>\n",
       "    </tr>\n",
       "    <tr>\n",
       "      <th>4</th>\n",
       "      <td>Iron Man 2</td>\n",
       "      <td>451156389.00000</td>\n",
       "      <td>Action,Adventure,Sci-Fi</td>\n",
       "    </tr>\n",
       "  </tbody>\n",
       "</table>\n",
       "</div>"
      ],
      "text/plain": [
       "               original_title          Profit                      genres\n",
       "0                 Toy Story 3 868879522.00000  Adventure,Animation,Comedy\n",
       "1                   Inception 675524642.00000     Action,Adventure,Sci-Fi\n",
       "2         Shrek Forever After 591244673.00000  Adventure,Animation,Comedy\n",
       "3  The Twilight Saga: Eclipse 638102828.00000     Adventure,Drama,Fantasy\n",
       "4                  Iron Man 2 451156389.00000     Action,Adventure,Sci-Fi"
      ]
     },
     "execution_count": 69,
     "metadata": {},
     "output_type": "execute_result"
    }
   ],
   "source": [
    "concise_table = films_df[['original_title', 'Profit', 'genres']]\n",
    "concise_table.head()"
   ]
  },
  {
   "cell_type": "markdown",
   "metadata": {},
   "source": [
    "To isolate each genre individually, we had to split and explode that column in order to manipulate the data on them. "
   ]
  },
  {
   "cell_type": "code",
   "execution_count": 70,
   "metadata": {
    "scrolled": true
   },
   "outputs": [
    {
     "name": "stderr",
     "output_type": "stream",
     "text": [
      "<ipython-input-70-c191d745f0c7>:1: SettingWithCopyWarning: \n",
      "A value is trying to be set on a copy of a slice from a DataFrame.\n",
      "Try using .loc[row_indexer,col_indexer] = value instead\n",
      "\n",
      "See the caveats in the documentation: https://pandas.pydata.org/pandas-docs/stable/user_guide/indexing.html#returning-a-view-versus-a-copy\n",
      "  concise_table['genres'] = concise_table['genres'].str.split(',')\n"
     ]
    }
   ],
   "source": [
    "concise_table['genres'] = concise_table['genres'].str.split(',')"
   ]
  },
  {
   "cell_type": "code",
   "execution_count": 71,
   "metadata": {},
   "outputs": [
    {
     "data": {
      "text/html": [
       "<div>\n",
       "<style scoped>\n",
       "    .dataframe tbody tr th:only-of-type {\n",
       "        vertical-align: middle;\n",
       "    }\n",
       "\n",
       "    .dataframe tbody tr th {\n",
       "        vertical-align: top;\n",
       "    }\n",
       "\n",
       "    .dataframe thead th {\n",
       "        text-align: right;\n",
       "    }\n",
       "</style>\n",
       "<table border=\"1\" class=\"dataframe\">\n",
       "  <thead>\n",
       "    <tr style=\"text-align: right;\">\n",
       "      <th></th>\n",
       "      <th>original_title</th>\n",
       "      <th>Profit</th>\n",
       "      <th>genres</th>\n",
       "    </tr>\n",
       "  </thead>\n",
       "  <tbody>\n",
       "    <tr>\n",
       "      <th>0</th>\n",
       "      <td>Toy Story 3</td>\n",
       "      <td>868879522.00000</td>\n",
       "      <td>Adventure</td>\n",
       "    </tr>\n",
       "    <tr>\n",
       "      <th>0</th>\n",
       "      <td>Toy Story 3</td>\n",
       "      <td>868879522.00000</td>\n",
       "      <td>Animation</td>\n",
       "    </tr>\n",
       "    <tr>\n",
       "      <th>0</th>\n",
       "      <td>Toy Story 3</td>\n",
       "      <td>868879522.00000</td>\n",
       "      <td>Comedy</td>\n",
       "    </tr>\n",
       "    <tr>\n",
       "      <th>1</th>\n",
       "      <td>Inception</td>\n",
       "      <td>675524642.00000</td>\n",
       "      <td>Action</td>\n",
       "    </tr>\n",
       "    <tr>\n",
       "      <th>1</th>\n",
       "      <td>Inception</td>\n",
       "      <td>675524642.00000</td>\n",
       "      <td>Adventure</td>\n",
       "    </tr>\n",
       "  </tbody>\n",
       "</table>\n",
       "</div>"
      ],
      "text/plain": [
       "  original_title          Profit     genres\n",
       "0    Toy Story 3 868879522.00000  Adventure\n",
       "0    Toy Story 3 868879522.00000  Animation\n",
       "0    Toy Story 3 868879522.00000     Comedy\n",
       "1      Inception 675524642.00000     Action\n",
       "1      Inception 675524642.00000  Adventure"
      ]
     },
     "execution_count": 71,
     "metadata": {},
     "output_type": "execute_result"
    }
   ],
   "source": [
    "concise_table = concise_table.explode('genres', ignore_index = False)\n",
    "concise_table.head()"
   ]
  },
  {
   "cell_type": "markdown",
   "metadata": {},
   "source": [
    "Find the mean of each genre to describe data as a whole."
   ]
  },
  {
   "cell_type": "code",
   "execution_count": 72,
   "metadata": {},
   "outputs": [
    {
     "data": {
      "text/plain": [
       "genres\n",
       "Animation   370245425.52532\n",
       "Adventure   292257869.41439\n",
       "Sci-Fi      282110424.19048\n",
       "Sport       227532730.05714\n",
       "Action      179669894.86073\n",
       "Name: Profit, dtype: float64"
      ]
     },
     "execution_count": 72,
     "metadata": {},
     "output_type": "execute_result"
    }
   ],
   "source": [
    "genre_profit = concise_table.groupby('genres')['Profit'].mean().sort_values()[::-1]\n",
    "genre_profit.head()"
   ]
  },
  {
   "cell_type": "markdown",
   "metadata": {},
   "source": [
    "### Visualization"
   ]
  },
  {
   "cell_type": "code",
   "execution_count": 73,
   "metadata": {},
   "outputs": [
    {
     "data": {
      "image/png": "[encoded data removed]",
      "text/plain": [
       "<Figure size 1800x720 with 1 Axes>"
      ]
     },
     "metadata": {},
     "output_type": "display_data"
    }
   ],
   "source": [
    "fig, ax = plt.subplots(figsize = (25,10))\n",
    "x = genre_profit.index\n",
    "height = genre_profit.values\n",
    "\n",
    "ax.yaxis.set_major_formatter(StrMethodFormatter('${x:,.0f}'))\n",
    "plt.xticks(fontsize = 16)\n",
    "plt.yticks(fontsize = 16)\n",
    "plt.axhline(genre_profit.values.mean(), color = 'red', ls = 'dotted')\n",
    "\n",
    "colors = ['#10DFBC' if val > 1.5*10**8 else '#E2522F' for val in height]\n",
    "\n",
    "\n",
    "ax.bar(x[:10], height[:10], color=colors)\n",
    "ax.set_title('Top Ten Most Profitable Genres (worldwide)\\n', fontsize = 30)\n",
    "ax.set_xlabel('Genre\\n', fontsize = 22)\n",
    "ax.set_ylabel('Average Profit\\n', fontsize = 22);"
   ]
  },
  {
   "cell_type": "markdown",
   "metadata": {},
   "source": [
    "### Studio Data Analysis"
   ]
  },
  {
   "cell_type": "markdown",
   "metadata": {},
   "source": [
    "Create dataframe with desired columns of studio, movie title, profit, genre, and director."
   ]
  },
  {
   "cell_type": "code",
   "execution_count": 74,
   "metadata": {},
   "outputs": [
    {
     "data": {
      "text/html": [
       "<div>\n",
       "<style scoped>\n",
       "    .dataframe tbody tr th:only-of-type {\n",
       "        vertical-align: middle;\n",
       "    }\n",
       "\n",
       "    .dataframe tbody tr th {\n",
       "        vertical-align: top;\n",
       "    }\n",
       "\n",
       "    .dataframe thead th {\n",
       "        text-align: right;\n",
       "    }\n",
       "</style>\n",
       "<table border=\"1\" class=\"dataframe\">\n",
       "  <thead>\n",
       "    <tr style=\"text-align: right;\">\n",
       "      <th></th>\n",
       "      <th>studio</th>\n",
       "      <th>original_title</th>\n",
       "      <th>Profit</th>\n",
       "      <th>genres</th>\n",
       "      <th>primary_name</th>\n",
       "    </tr>\n",
       "  </thead>\n",
       "  <tbody>\n",
       "    <tr>\n",
       "      <th>0</th>\n",
       "      <td>BV</td>\n",
       "      <td>Toy Story 3</td>\n",
       "      <td>868879522.00000</td>\n",
       "      <td>Adventure,Animation,Comedy</td>\n",
       "      <td>Lee Unkrich</td>\n",
       "    </tr>\n",
       "    <tr>\n",
       "      <th>1</th>\n",
       "      <td>WB</td>\n",
       "      <td>Inception</td>\n",
       "      <td>675524642.00000</td>\n",
       "      <td>Action,Adventure,Sci-Fi</td>\n",
       "      <td>Christopher Nolan</td>\n",
       "    </tr>\n",
       "    <tr>\n",
       "      <th>2</th>\n",
       "      <td>P/DW</td>\n",
       "      <td>Shrek Forever After</td>\n",
       "      <td>591244673.00000</td>\n",
       "      <td>Adventure,Animation,Comedy</td>\n",
       "      <td>Mike Mitchell</td>\n",
       "    </tr>\n",
       "    <tr>\n",
       "      <th>3</th>\n",
       "      <td>Sum.</td>\n",
       "      <td>The Twilight Saga: Eclipse</td>\n",
       "      <td>638102828.00000</td>\n",
       "      <td>Adventure,Drama,Fantasy</td>\n",
       "      <td>David Slade</td>\n",
       "    </tr>\n",
       "    <tr>\n",
       "      <th>4</th>\n",
       "      <td>Par.</td>\n",
       "      <td>Iron Man 2</td>\n",
       "      <td>451156389.00000</td>\n",
       "      <td>Action,Adventure,Sci-Fi</td>\n",
       "      <td>Jon Favreau</td>\n",
       "    </tr>\n",
       "    <tr>\n",
       "      <th>...</th>\n",
       "      <td>...</td>\n",
       "      <td>...</td>\n",
       "      <td>...</td>\n",
       "      <td>...</td>\n",
       "      <td>...</td>\n",
       "    </tr>\n",
       "    <tr>\n",
       "      <th>1572</th>\n",
       "      <td>LGF</td>\n",
       "      <td>Kin</td>\n",
       "      <td>-19903179.00000</td>\n",
       "      <td>Drama,Music</td>\n",
       "      <td>Rachel Lambert</td>\n",
       "    </tr>\n",
       "    <tr>\n",
       "      <th>1573</th>\n",
       "      <td>Amazon</td>\n",
       "      <td>Suspiria</td>\n",
       "      <td>-12965385.00000</td>\n",
       "      <td>Fantasy,Horror,Mystery</td>\n",
       "      <td>Luca Guadagnino</td>\n",
       "    </tr>\n",
       "    <tr>\n",
       "      <th>1574</th>\n",
       "      <td>Annapurna</td>\n",
       "      <td>Destroyer</td>\n",
       "      <td>-5318904.00000</td>\n",
       "      <td>Action,Crime,Drama</td>\n",
       "      <td>Karyn Kusama</td>\n",
       "    </tr>\n",
       "    <tr>\n",
       "      <th>1575</th>\n",
       "      <td>VE</td>\n",
       "      <td>Bilal: A New Breed of Hero</td>\n",
       "      <td>-29351401.00000</td>\n",
       "      <td>Action,Adventure,Animation</td>\n",
       "      <td>Ayman Jamal</td>\n",
       "    </tr>\n",
       "    <tr>\n",
       "      <th>1576</th>\n",
       "      <td>VE</td>\n",
       "      <td>Bilal: A New Breed of Hero</td>\n",
       "      <td>-29351401.00000</td>\n",
       "      <td>Action,Adventure,Animation</td>\n",
       "      <td>Khurram H. Alavi</td>\n",
       "    </tr>\n",
       "  </tbody>\n",
       "</table>\n",
       "<p>1577 rows × 5 columns</p>\n",
       "</div>"
      ],
      "text/plain": [
       "         studio              original_title          Profit  \\\n",
       "0            BV                 Toy Story 3 868879522.00000   \n",
       "1            WB                   Inception 675524642.00000   \n",
       "2          P/DW         Shrek Forever After 591244673.00000   \n",
       "3          Sum.  The Twilight Saga: Eclipse 638102828.00000   \n",
       "4          Par.                  Iron Man 2 451156389.00000   \n",
       "...         ...                         ...             ...   \n",
       "1572        LGF                         Kin -19903179.00000   \n",
       "1573     Amazon                    Suspiria -12965385.00000   \n",
       "1574  Annapurna                   Destroyer  -5318904.00000   \n",
       "1575         VE  Bilal: A New Breed of Hero -29351401.00000   \n",
       "1576         VE  Bilal: A New Breed of Hero -29351401.00000   \n",
       "\n",
       "                          genres       primary_name  \n",
       "0     Adventure,Animation,Comedy        Lee Unkrich  \n",
       "1        Action,Adventure,Sci-Fi  Christopher Nolan  \n",
       "2     Adventure,Animation,Comedy      Mike Mitchell  \n",
       "3        Adventure,Drama,Fantasy        David Slade  \n",
       "4        Action,Adventure,Sci-Fi        Jon Favreau  \n",
       "...                          ...                ...  \n",
       "1572                 Drama,Music     Rachel Lambert  \n",
       "1573      Fantasy,Horror,Mystery    Luca Guadagnino  \n",
       "1574          Action,Crime,Drama       Karyn Kusama  \n",
       "1575  Action,Adventure,Animation        Ayman Jamal  \n",
       "1576  Action,Adventure,Animation   Khurram H. Alavi  \n",
       "\n",
       "[1577 rows x 5 columns]"
      ]
     },
     "execution_count": 74,
     "metadata": {},
     "output_type": "execute_result"
    }
   ],
   "source": [
    "studios_table = films_df[['studio', 'original_title', 'Profit', 'genres', 'primary_name']]\n",
    "studios_table"
   ]
  },
  {
   "cell_type": "markdown",
   "metadata": {},
   "source": [
    "### Clean Data\n",
    "Some of the studios were named differently from the merged dataframes, but are actually the same entity."
   ]
  },
  {
   "cell_type": "code",
   "execution_count": 75,
   "metadata": {},
   "outputs": [
    {
     "name": "stderr",
     "output_type": "stream",
     "text": [
      "C:\\Users\\dcv_2\\anaconda3\\envs\\learn-env\\lib\\site-packages\\pandas\\core\\series.py:4563: SettingWithCopyWarning: \n",
      "A value is trying to be set on a copy of a slice from a DataFrame\n",
      "\n",
      "See the caveats in the documentation: https://pandas.pydata.org/pandas-docs/stable/user_guide/indexing.html#returning-a-view-versus-a-copy\n",
      "  return super().replace(\n"
     ]
    }
   ],
   "source": [
    "studios_table['studio'].replace({'WB (NL)': 'WB'}, inplace = True)"
   ]
  },
  {
   "cell_type": "code",
   "execution_count": 76,
   "metadata": {},
   "outputs": [],
   "source": [
    "studios_table['studio'].replace({'BV': 'BV (Disney)', 'SPC': 'Sony'}, inplace = True)"
   ]
  },
  {
   "cell_type": "code",
   "execution_count": 77,
   "metadata": {},
   "outputs": [
    {
     "name": "stderr",
     "output_type": "stream",
     "text": [
      "<ipython-input-77-f398604f63c1>:1: SettingWithCopyWarning: \n",
      "A value is trying to be set on a copy of a slice from a DataFrame.\n",
      "Try using .loc[row_indexer,col_indexer] = value instead\n",
      "\n",
      "See the caveats in the documentation: https://pandas.pydata.org/pandas-docs/stable/user_guide/indexing.html#returning-a-view-versus-a-copy\n",
      "  studios_table['genres'] = studios_table['genres'].str.split(',')\n"
     ]
    }
   ],
   "source": [
    "studios_table['genres'] = studios_table['genres'].str.split(',')"
   ]
  },
  {
   "cell_type": "markdown",
   "metadata": {},
   "source": [
    "Here we created 4 seperate visuals to show the top studios performance in the most profitable genres to give Microsoft a concise comparison of potential partnerships."
   ]
  },
  {
   "cell_type": "code",
   "execution_count": 78,
   "metadata": {},
   "outputs": [],
   "source": [
    "studio_genre_df = pd.pivot_table(studios_table.explode('genres'), index = 'genres', columns = 'studio', values = 'Profit', aggfunc = 'mean')[['Uni.', 'WB', 'Fox']]\n"
   ]
  },
  {
   "cell_type": "code",
   "execution_count": 79,
   "metadata": {},
   "outputs": [],
   "source": [
    "top_genre_per_studio = studio_genre_df.loc[['Animation', 'Adventure', 'Sci-Fi', 'Sport', 'Action']]"
   ]
  },
  {
   "cell_type": "code",
   "execution_count": 80,
   "metadata": {},
   "outputs": [
    {
     "data": {
      "image/png": "[encoded data removed]",
      "text/plain": [
       "<Figure size 864x576 with 1 Axes>"
      ]
     },
     "metadata": {},
     "output_type": "display_data"
    }
   ],
   "source": [
    "x = top_genre_per_studio.index\n",
    "height = top_genre_per_studio['Uni.'].values\n",
    "colors = ['#0077b6' if val > 1.5*10**8 else '#E2522F' for val in height]\n",
    "fig, ax = plt.subplots(figsize = (12,8))\n",
    "ax.bar(color=colors, x=x, height=height)\n",
    "\n",
    "ax.yaxis.set_major_formatter(StrMethodFormatter('${x:,.0f}'))\n",
    "plt.xticks(fontsize = 16, rotation = 0)\n",
    "plt.yticks(fontsize = 16)\n",
    "plt.axhline(studio_genre_df['Uni.'].mean(), color = 'red', ls = 'dotted')\n",
    "\n",
    "\n",
    "ax.set_title('Universal Studios Profit per Genre\\n', fontsize = 30)\n",
    "ax.set_xlabel('Genre\\n', fontsize = 22)\n",
    "ax.set_ylabel('Profit per Film\\n', fontsize = 22);"
   ]
  },
  {
   "cell_type": "code",
   "execution_count": 81,
   "metadata": {},
   "outputs": [
    {
     "data": {
      "image/png": "[encoded data removed]",
      "text/plain": [
       "<Figure size 864x576 with 1 Axes>"
      ]
     },
     "metadata": {},
     "output_type": "display_data"
    }
   ],
   "source": [
    "x = top_genre_per_studio.index\n",
    "height = top_genre_per_studio['WB'].values\n",
    "colors = ['#E2522F' if val < 2*10**8 else '#ffb703' for val in height]\n",
    "fig, ax = plt.subplots(figsize = (12,8))\n",
    "ax.bar(color = colors, x=x, height=height)\n",
    "\n",
    "\n",
    "ax.yaxis.set_major_formatter(StrMethodFormatter('${x:,.0f}'))\n",
    "plt.xticks(fontsize = 16, rotation = 0)\n",
    "plt.yticks(fontsize = 16)\n",
    "plt.axhline(studio_genre_df['WB'].mean(), color = 'red', ls = 'dotted')\n",
    "\n",
    "ax.set_title('Warner Bros Studios Profit per Genre\\n', fontsize = 30)\n",
    "ax.set_xlabel('Genre\\n', fontsize = 22)\n",
    "ax.set_ylabel('Profit per Film\\n', fontsize = 22);"
   ]
  },
  {
   "cell_type": "code",
   "execution_count": 82,
   "metadata": {
    "scrolled": false
   },
   "outputs": [
    {
     "data": {
      "image/png": "[encoded data removed]",
      "text/plain": [
       "<Figure size 864x576 with 1 Axes>"
      ]
     },
     "metadata": {},
     "output_type": "display_data"
    }
   ],
   "source": [
    "fox_mean = studio_genre_df['Fox'].mean()\n",
    "x = top_genre_per_studio.index\n",
    "height = top_genre_per_studio['Fox'].values\n",
    "colors = ['#E2522F' if val < 1.3*10**8 else '#679436' for val in height]\n",
    "fig, ax = plt.subplots(figsize = (12,8))\n",
    "ax.bar(x=x, height=height, color=colors)\n",
    "\n",
    "ax.yaxis.set_major_formatter(StrMethodFormatter('${x:,.0f}'))\n",
    "plt.xticks(fontsize = 16, rotation = 0)\n",
    "plt.yticks(fontsize = 16)\n",
    "plt.axhline(fox_mean, color = 'red', ls = 'dotted')\n",
    "\n",
    "ax.set_title('Fox Studios Profit per Genre\\n', fontsize = 30)\n",
    "ax.set_xlabel('Genre\\n', fontsize = 22)\n",
    "ax.set_ylabel('Profit per Film\\n', fontsize = 22);"
   ]
  },
  {
   "cell_type": "code",
   "execution_count": 83,
   "metadata": {},
   "outputs": [
    {
     "data": {
      "image/png": "[encoded data removed]",
      "text/plain": [
       "<Figure size 576x288 with 1 Axes>"
      ]
     },
     "metadata": {},
     "output_type": "display_data"
    }
   ],
   "source": [
    "fig, ax = plt.subplots(figsize = (12,8))\n",
    "studio_average_profit_per_genre_df = studio_genre_df.loc[['Animation', 'Adventure', 'Sci-Fi', 'Sport', 'Action']].plot.bar(figsize = (8,4), ax = ax)\n",
    "\n",
    "ax.yaxis.set_major_formatter(StrMethodFormatter('${x:,.0f}'))\n",
    "plt.xticks(fontsize = 12, rotation = 0)\n",
    "plt.yticks(fontsize = 12)\n",
    "\n",
    "ax.set_title('Studios Profit per Genre Comparison\\n', fontsize = 22)\n",
    "ax.set_xlabel('Genre\\n', fontsize = 16)\n",
    "ax.set_ylabel('Profit per Film\\n', fontsize = 16)\n",
    "plt.savefig('photos/threeStudio3.png', bbox_inches='tight');\n"
   ]
  },
  {
   "cell_type": "markdown",
   "metadata": {},
   "source": [
    "# Average Studio Profit"
   ]
  },
  {
   "cell_type": "code",
   "execution_count": 84,
   "metadata": {},
   "outputs": [
    {
     "data": {
      "text/plain": [
       "studio\n",
       "BV (Disney)   447822982.29661\n",
       "P/DW          405980087.30769\n",
       "GrtIndia      233502914.00000\n",
       "Fox           175252967.74675\n",
       "WB            157713701.73869\n",
       "                    ...      \n",
       "Amazon        -12965385.00000\n",
       "OMNI/FSR      -13906275.00000\n",
       "MNE           -14135452.00000\n",
       "VE            -29351401.00000\n",
       "Free          -36109895.00000\n",
       "Name: Profit, Length: 64, dtype: float64"
      ]
     },
     "execution_count": 84,
     "metadata": {},
     "output_type": "execute_result"
    }
   ],
   "source": [
    "studios_profit = studios_table.groupby('studio')['Profit'].mean().sort_values()[::-1]\n",
    "studios_profit"
   ]
  },
  {
   "cell_type": "markdown",
   "metadata": {},
   "source": [
    "Here we extract the studios with at least 100 films in the data. This allows us to present partnerships of established, successful studios."
   ]
  },
  {
   "cell_type": "code",
   "execution_count": 85,
   "metadata": {},
   "outputs": [
    {
     "data": {
      "text/plain": [
       "Uni.           255\n",
       "WB             199\n",
       "Fox            154\n",
       "BV (Disney)    118\n",
       "Sony           110\n",
       "Par.           102\n",
       "Name: studio, dtype: int64"
      ]
     },
     "execution_count": 85,
     "metadata": {},
     "output_type": "execute_result"
    }
   ],
   "source": [
    "common_studios = studios_table['studio'].value_counts()[:6]\n",
    "common_studios"
   ]
  },
  {
   "cell_type": "code",
   "execution_count": 86,
   "metadata": {},
   "outputs": [],
   "source": [
    "universal_df = studios_table[studios_table['studio'] == 'Uni.']"
   ]
  },
  {
   "cell_type": "code",
   "execution_count": 87,
   "metadata": {},
   "outputs": [],
   "source": [
    "warner_df = studios_table[studios_table['studio'] == 'WB']"
   ]
  },
  {
   "cell_type": "code",
   "execution_count": 88,
   "metadata": {},
   "outputs": [
    {
     "name": "stdout",
     "output_type": "stream",
     "text": [
      "Uni.\n",
      "WB\n",
      "Fox\n",
      "BV (Disney)\n",
      "Sony\n",
      "Par.\n"
     ]
    }
   ],
   "source": [
    "studio_dfs = []\n",
    "\n",
    "for studio in common_studios.index:\n",
    "    print(studio)\n",
    "    studio_df = studios_table[studios_table['studio'] == studio]\n",
    "    studio_df.head()\n",
    "    studio_dfs.append(studio_df)"
   ]
  },
  {
   "cell_type": "code",
   "execution_count": 89,
   "metadata": {},
   "outputs": [],
   "source": [
    "top_studios = pd.concat(studio_dfs)"
   ]
  },
  {
   "cell_type": "markdown",
   "metadata": {},
   "source": [
    "Now we find the average profit from each movie made by each of the top studios."
   ]
  },
  {
   "cell_type": "code",
   "execution_count": 90,
   "metadata": {
    "scrolled": true
   },
   "outputs": [
    {
     "data": {
      "text/plain": [
       "studio\n",
       "BV (Disney)   447822982.29661\n",
       "Fox           175252967.74675\n",
       "WB            157713701.73869\n",
       "Uni.          154167726.47843\n",
       "Sony          146782063.41818\n",
       "Par.          129353472.11765\n",
       "Name: Profit, dtype: float64"
      ]
     },
     "execution_count": 90,
     "metadata": {},
     "output_type": "execute_result"
    }
   ],
   "source": [
    "top_studios_profit = top_studios.groupby('studio')['Profit'].mean().sort_values()[::-1]\n",
    "top_studios_profit"
   ]
  },
  {
   "cell_type": "markdown",
   "metadata": {},
   "source": [
    "### Visualization"
   ]
  },
  {
   "cell_type": "code",
   "execution_count": 91,
   "metadata": {},
   "outputs": [
    {
     "data": {
      "image/png": "[encoded data removed]",
      "text/plain": [
       "<Figure size 864x720 with 1 Axes>"
      ]
     },
     "metadata": {},
     "output_type": "display_data"
    }
   ],
   "source": [
    "fig, ax = plt.subplots(figsize = (12,10))\n",
    "x = ['BV(Disney)', 'Fox', 'Warner Bros', 'Universal', 'Sony', 'Paramount']\n",
    "height = top_studios_profit.values\n",
    "\n",
    "colors = ['#10DFBC' if val > 2*10**8 else '#E2522F' for val in height]\n",
    "\n",
    "ax.yaxis.set_major_formatter(StrMethodFormatter('${x:,.0f}'))\n",
    "plt.xticks(fontsize = 16)\n",
    "plt.yticks(fontsize = 16)\n",
    "\n",
    "ax.bar(x, height, color=colors)\n",
    "ax.set_title('Six Most Profitable Established Studios (> 100 films)\\n', fontsize = 30)\n",
    "ax.set_xlabel('Studio\\n', fontsize = 22)\n",
    "ax.set_ylabel('Average Profit per Movie\\n', fontsize = 22);"
   ]
  },
  {
   "cell_type": "markdown",
   "metadata": {},
   "source": [
    "# Conclusion"
   ]
  },
  {
   "cell_type": "markdown",
   "metadata": {},
   "source": [
    "These are our final recomendations for Microsoft:\n",
    "- Studios to work/aquire\n",
    "    - Warner Bros\n",
    "    - Fox\n",
    "    - Universal\n",
    "- Genres to focus on\n",
    "    - Adventure\n",
    "    - Sci-Fi\n",
    "    - Action\n",
    "- Directors to hire\n",
    "    - Tim Miller\n",
    "    - Joss Whedon\n",
    "    - Joe Russo"
   ]
  },
  {
   "cell_type": "code",
   "execution_count": null,
   "metadata": {},
   "outputs": [],
   "source": []
  }
 ],
 "metadata": {
  "kernelspec": {
   "display_name": "Python (learn-env)",
   "language": "python",
   "name": "learn-env"
  },
  "language_info": {
   "codemirror_mode": {
    "name": "ipython",
    "version": 3
   },
   "file_extension": ".py",
   "mimetype": "text/x-python",
   "name": "python",
   "nbconvert_exporter": "python",
   "pygments_lexer": "ipython3",
   "version": "3.8.5"
  }
 },
 "nbformat": 4,
 "nbformat_minor": 4
}
